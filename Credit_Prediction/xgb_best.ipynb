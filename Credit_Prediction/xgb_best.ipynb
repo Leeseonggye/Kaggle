{
  "nbformat": 4,
  "nbformat_minor": 0,
  "metadata": {
    "colab": {
      "name": "xgb_v5_specialist.ipynb",
      "provenance": [],
      "collapsed_sections": []
    },
    "kernelspec": {
      "name": "python3",
      "display_name": "Python 3"
    },
    "language_info": {
      "name": "python"
    },
    "accelerator": "GPU"
  },
  "cells": [
    {
      "cell_type": "code",
      "metadata": {
        "id": "qi-etIIEwJrn",
        "colab": {
          "base_uri": "https://localhost:8080/"
        },
        "outputId": "6bbea265-7db8-4490-e51d-6f7c7c5058ff"
      },
      "source": [
        "!pip install optuna\n",
        "import pandas as pd\n",
        "import numpy as np\n",
        "import matplotlib.pyplot as plt\n",
        "import seaborn as sns\n",
        "import optuna\n",
        "from lightgbm import LGBMClassifier\n",
        "from xgboost import XGBClassifier\n",
        "from sklearn.metrics import log_loss\n",
        "from sklearn.metrics import mean_squared_error\n",
        "from sklearn.model_selection import train_test_split,KFold\n",
        "from sklearn.preprocessing import LabelEncoder"
      ],
      "execution_count": null,
      "outputs": [
        {
          "output_type": "stream",
          "text": [
            "Collecting optuna\n",
            "\u001b[?25l  Downloading https://files.pythonhosted.org/packages/2b/21/d13081805e1e1afc71f5bb743ece324c8bd576237c51b899ecb38a717502/optuna-2.7.0-py3-none-any.whl (293kB)\n",
            "\u001b[K     |████████████████████████████████| 296kB 5.5MB/s \n",
            "\u001b[?25hCollecting cmaes>=0.8.2\n",
            "  Downloading https://files.pythonhosted.org/packages/01/1f/43b01223a0366171f474320c6e966c39a11587287f098a5f09809b45e05f/cmaes-0.8.2-py3-none-any.whl\n",
            "Requirement already satisfied: numpy in /usr/local/lib/python3.7/dist-packages (from optuna) (1.19.5)\n",
            "Collecting alembic\n",
            "\u001b[?25l  Downloading https://files.pythonhosted.org/packages/ab/ff/375a0a81965a7ad4e23d1786de218e9bae050c4d3927cc9b2783aa045401/alembic-1.6.2.tar.gz (1.2MB)\n",
            "\u001b[K     |████████████████████████████████| 1.2MB 7.3MB/s \n",
            "\u001b[?25hRequirement already satisfied: scipy!=1.4.0 in /usr/local/lib/python3.7/dist-packages (from optuna) (1.4.1)\n",
            "Collecting colorlog\n",
            "  Downloading https://files.pythonhosted.org/packages/32/e6/e9ddc6fa1104fda718338b341e4b3dc31cd8039ab29e52fc73b508515361/colorlog-5.0.1-py2.py3-none-any.whl\n",
            "Requirement already satisfied: sqlalchemy>=1.1.0 in /usr/local/lib/python3.7/dist-packages (from optuna) (1.4.7)\n",
            "Requirement already satisfied: tqdm in /usr/local/lib/python3.7/dist-packages (from optuna) (4.41.1)\n",
            "Collecting cliff\n",
            "\u001b[?25l  Downloading https://files.pythonhosted.org/packages/a2/d6/7d9acb68a77acd140be7fececb7f2701b2a29d2da9c54184cb8f93509590/cliff-3.7.0-py3-none-any.whl (80kB)\n",
            "\u001b[K     |████████████████████████████████| 81kB 6.6MB/s \n",
            "\u001b[?25hRequirement already satisfied: packaging>=20.0 in /usr/local/lib/python3.7/dist-packages (from optuna) (20.9)\n",
            "Collecting Mako\n",
            "\u001b[?25l  Downloading https://files.pythonhosted.org/packages/f3/54/dbc07fbb20865d3b78fdb7cf7fa713e2cba4f87f71100074ef2dc9f9d1f7/Mako-1.1.4-py2.py3-none-any.whl (75kB)\n",
            "\u001b[K     |████████████████████████████████| 81kB 7.8MB/s \n",
            "\u001b[?25hCollecting python-editor>=0.3\n",
            "  Downloading https://files.pythonhosted.org/packages/c6/d3/201fc3abe391bbae6606e6f1d598c15d367033332bd54352b12f35513717/python_editor-1.0.4-py3-none-any.whl\n",
            "Requirement already satisfied: python-dateutil in /usr/local/lib/python3.7/dist-packages (from alembic->optuna) (2.8.1)\n",
            "Requirement already satisfied: greenlet!=0.4.17; python_version >= \"3\" in /usr/local/lib/python3.7/dist-packages (from sqlalchemy>=1.1.0->optuna) (1.0.0)\n",
            "Requirement already satisfied: importlib-metadata; python_version < \"3.8\" in /usr/local/lib/python3.7/dist-packages (from sqlalchemy>=1.1.0->optuna) (3.10.1)\n",
            "Collecting pbr!=2.1.0,>=2.0.0\n",
            "\u001b[?25l  Downloading https://files.pythonhosted.org/packages/18/e0/1d4702dd81121d04a477c272d47ee5b6bc970d1a0990b11befa275c55cf2/pbr-5.6.0-py2.py3-none-any.whl (111kB)\n",
            "\u001b[K     |████████████████████████████████| 112kB 15.1MB/s \n",
            "\u001b[?25hRequirement already satisfied: PrettyTable>=0.7.2 in /usr/local/lib/python3.7/dist-packages (from cliff->optuna) (2.1.0)\n",
            "Requirement already satisfied: PyYAML>=3.12 in /usr/local/lib/python3.7/dist-packages (from cliff->optuna) (3.13)\n",
            "Collecting stevedore>=2.0.1\n",
            "\u001b[?25l  Downloading https://files.pythonhosted.org/packages/d4/49/b602307aeac3df3384ff1fcd05da9c0376c622a6c48bb5325f28ab165b57/stevedore-3.3.0-py3-none-any.whl (49kB)\n",
            "\u001b[K     |████████████████████████████████| 51kB 5.4MB/s \n",
            "\u001b[?25hCollecting cmd2>=1.0.0\n",
            "\u001b[?25l  Downloading https://files.pythonhosted.org/packages/15/8b/15061b32332bb35ea2a2f6263d0f616779d576e82739ec8e7fcf3c94abf5/cmd2-1.5.0-py3-none-any.whl (133kB)\n",
            "\u001b[K     |████████████████████████████████| 143kB 15.0MB/s \n",
            "\u001b[?25hRequirement already satisfied: pyparsing>=2.1.0 in /usr/local/lib/python3.7/dist-packages (from cliff->optuna) (2.4.7)\n",
            "Requirement already satisfied: MarkupSafe>=0.9.2 in /usr/local/lib/python3.7/dist-packages (from Mako->alembic->optuna) (1.1.1)\n",
            "Requirement already satisfied: six>=1.5 in /usr/local/lib/python3.7/dist-packages (from python-dateutil->alembic->optuna) (1.15.0)\n",
            "Requirement already satisfied: typing-extensions>=3.6.4; python_version < \"3.8\" in /usr/local/lib/python3.7/dist-packages (from importlib-metadata; python_version < \"3.8\"->sqlalchemy>=1.1.0->optuna) (3.7.4.3)\n",
            "Requirement already satisfied: zipp>=0.5 in /usr/local/lib/python3.7/dist-packages (from importlib-metadata; python_version < \"3.8\"->sqlalchemy>=1.1.0->optuna) (3.4.1)\n",
            "Requirement already satisfied: wcwidth in /usr/local/lib/python3.7/dist-packages (from PrettyTable>=0.7.2->cliff->optuna) (0.2.5)\n",
            "Collecting colorama>=0.3.7\n",
            "  Downloading https://files.pythonhosted.org/packages/44/98/5b86278fbbf250d239ae0ecb724f8572af1c91f4a11edf4d36a206189440/colorama-0.4.4-py2.py3-none-any.whl\n",
            "Collecting pyperclip>=1.6\n",
            "  Downloading https://files.pythonhosted.org/packages/a7/2c/4c64579f847bd5d539803c8b909e54ba087a79d01bb3aba433a95879a6c5/pyperclip-1.8.2.tar.gz\n",
            "Requirement already satisfied: attrs>=16.3.0 in /usr/local/lib/python3.7/dist-packages (from cmd2>=1.0.0->cliff->optuna) (20.3.0)\n",
            "Building wheels for collected packages: alembic, pyperclip\n",
            "  Building wheel for alembic (setup.py) ... \u001b[?25l\u001b[?25hdone\n",
            "  Created wheel for alembic: filename=alembic-1.6.2-py2.py3-none-any.whl size=164219 sha256=13fc8fe2d05dbe82a572e4bfecf569e3d46d42fbeb2513c33f150bdb360c5728\n",
            "  Stored in directory: /root/.cache/pip/wheels/a5/63/44/db29401e49ef5331c163b591f12a465c40af864bfa888dabd2\n",
            "  Building wheel for pyperclip (setup.py) ... \u001b[?25l\u001b[?25hdone\n",
            "  Created wheel for pyperclip: filename=pyperclip-1.8.2-cp37-none-any.whl size=11107 sha256=e5fe0d22994e6a355b1fddc3e9ceaec863f82a5b93108649fb3bf3e4dc386a7a\n",
            "  Stored in directory: /root/.cache/pip/wheels/25/af/b8/3407109267803f4015e1ee2ff23be0c8c19ce4008665931ee1\n",
            "Successfully built alembic pyperclip\n",
            "Installing collected packages: cmaes, Mako, python-editor, alembic, colorlog, pbr, stevedore, colorama, pyperclip, cmd2, cliff, optuna\n",
            "Successfully installed Mako-1.1.4 alembic-1.6.2 cliff-3.7.0 cmaes-0.8.2 cmd2-1.5.0 colorama-0.4.4 colorlog-5.0.1 optuna-2.7.0 pbr-5.6.0 pyperclip-1.8.2 python-editor-1.0.4 stevedore-3.3.0\n"
          ],
          "name": "stdout"
        }
      ]
    },
    {
      "cell_type": "code",
      "metadata": {
        "colab": {
          "base_uri": "https://localhost:8080/"
        },
        "id": "ktVy1ZVtwOMI",
        "outputId": "2aacabf2-5ef2-41e8-ec05-4ac6b687cd80"
      },
      "source": [
        "from google.colab import drive\n",
        "drive.mount('/content/drive')"
      ],
      "execution_count": null,
      "outputs": [
        {
          "output_type": "stream",
          "text": [
            "Mounted at /content/drive\n"
          ],
          "name": "stdout"
        }
      ]
    },
    {
      "cell_type": "code",
      "metadata": {
        "id": "qqUaUpf3wU1L"
      },
      "source": [
        "train = pd.read_csv('/content/drive/MyDrive/DACON/credit/train.csv')\n",
        "train = train.drop(['index'], axis=1)\n",
        "\n",
        "test = pd.read_csv('/content/drive/MyDrive/DACON/credit/test.csv')\n",
        "test = test.drop(['index'], axis=1)\n",
        "\n",
        "submit = pd.read_csv('/content/drive/MyDrive/DACON/credit/sample_submission.csv')"
      ],
      "execution_count": null,
      "outputs": []
    },
    {
      "cell_type": "markdown",
      "metadata": {
        "id": "DAIqVKTaUzfh"
      },
      "source": [
        "## Data 전처리\n",
        "### occyp_type"
      ]
    },
    {
      "cell_type": "code",
      "metadata": {
        "id": "H3j0x2chz4YJ"
      },
      "source": [
        "def occyptype_pre(data):\n",
        "  data.loc[data[\"DAYS_EMPLOYED\"] >= 0,'occyp_type'] = \"No job\"\n",
        "  data[\"occyp_type\"] = data[\"occyp_type\"].fillna(\"unknown\")\n",
        "  return"
      ],
      "execution_count": null,
      "outputs": []
    },
    {
      "cell_type": "code",
      "metadata": {
        "id": "eodQm2Tqz8Un"
      },
      "source": [
        "occyptype_pre(train)\n",
        "occyptype_pre(test)"
      ],
      "execution_count": null,
      "outputs": []
    },
    {
      "cell_type": "markdown",
      "metadata": {
        "id": "aBieDIpA0Usn"
      },
      "source": [
        "### 빈도수 적은 data 처리"
      ]
    },
    {
      "cell_type": "code",
      "metadata": {
        "id": "An6vBtZR0FjR"
      },
      "source": [
        "# 빈도수가 적은 카테고리 확인(1% 기준)\n",
        "# staff 직군으로 묶기(빈도수가 낮은 집단이 모두 staff -> sales staff로 묶어서 진행해보자)\n",
        "def find_minority_cats(cat_cols, data_df, composite_category='Sales staff', threshold=0.03):\n",
        "    \"\"\" Find minority categories for each feature column, and create a \n",
        "        dictionary that maps those to selected composite category \"\"\"\n",
        "    minority_col_dict = {}\n",
        "    minority_mapping_dict = {}\n",
        "    \n",
        "    # find all feature categories with less than 1% proportion\n",
        "    for feature in cat_cols:\n",
        "        minority_col_dict[feature] = []\n",
        "        minority_mapping_dict[feature] = {}\n",
        "        \n",
        "        for category, proportion in data_df[feature].value_counts(normalize=True).iteritems():\n",
        "            if proportion < threshold:\n",
        "                minority_col_dict[feature].append(category)\n",
        "                \n",
        "                # map those minority cats to chosen composite feature\n",
        "                minority_mapping_dict[feature] = { x : composite_category for x \n",
        "                                                  in minority_col_dict[feature]}\n",
        "                \n",
        "    return minority_mapping_dict, minority_col_dict"
      ],
      "execution_count": null,
      "outputs": []
    },
    {
      "cell_type": "code",
      "metadata": {
        "colab": {
          "base_uri": "https://localhost:8080/"
        },
        "id": "fY_a-_Zn0Z19",
        "outputId": "d9daa2bc-00c1-40e9-945b-12c77582d741"
      },
      "source": [
        "cat_min_mappings, minority_cols = find_minority_cats([\"occyp_type\"], train)\n",
        "minority_cols"
      ],
      "execution_count": null,
      "outputs": [
        {
          "output_type": "execute_result",
          "data": {
            "text/plain": [
              "{'occyp_type': ['Cooking staff',\n",
              "  'Security staff',\n",
              "  'Cleaning staff',\n",
              "  'Private service staff',\n",
              "  'Low-skill Laborers',\n",
              "  'Waiters/barmen staff',\n",
              "  'Secretaries',\n",
              "  'Realty agents',\n",
              "  'HR staff',\n",
              "  'IT staff']}"
            ]
          },
          "metadata": {
            "tags": []
          },
          "execution_count": 7
        }
      ]
    },
    {
      "cell_type": "code",
      "metadata": {
        "colab": {
          "base_uri": "https://localhost:8080/"
        },
        "id": "tAS48yfV1tpU",
        "outputId": "329739da-00a4-45ef-c492-c412a1cf64b6"
      },
      "source": [
        "cat_min_mappings"
      ],
      "execution_count": null,
      "outputs": [
        {
          "output_type": "execute_result",
          "data": {
            "text/plain": [
              "{'occyp_type': {'Cleaning staff': 'Sales staff',\n",
              "  'Cooking staff': 'Sales staff',\n",
              "  'HR staff': 'Sales staff',\n",
              "  'IT staff': 'Sales staff',\n",
              "  'Low-skill Laborers': 'Sales staff',\n",
              "  'Private service staff': 'Sales staff',\n",
              "  'Realty agents': 'Sales staff',\n",
              "  'Secretaries': 'Sales staff',\n",
              "  'Security staff': 'Sales staff',\n",
              "  'Waiters/barmen staff': 'Sales staff'}}"
            ]
          },
          "metadata": {
            "tags": []
          },
          "execution_count": 8
        }
      ]
    },
    {
      "cell_type": "code",
      "metadata": {
        "id": "hr0145WN1iQX"
      },
      "source": [
        "train[\"occyp_type\"] = train[\"occyp_type\"].replace(cat_min_mappings[\"occyp_type\"])\n",
        "test[\"occyp_type\"] = test[\"occyp_type\"].replace(cat_min_mappings[\"occyp_type\"])"
      ],
      "execution_count": null,
      "outputs": []
    },
    {
      "cell_type": "code",
      "metadata": {
        "id": "Dfdl170LQGxf"
      },
      "source": [
        "special_type = ['High skill tech staff','Medicine staff','Accountants']\n",
        "\n",
        "def specialist(data):\n",
        "  data.loc[data[\"occyp_type\"] == 'High skill tech staff','occyp_type'] = \"specialist\"\n",
        "  data.loc[data[\"occyp_type\"] == 'Medicine staff','occyp_type'] = \"specialist\"\n",
        "  data.loc[data[\"occyp_type\"] == 'Accountants','occyp_type'] = \"specialist\"\n",
        "\n",
        "  data[\"occyp_type\"] = data[\"occyp_type\"].fillna(\"unknown\")\n",
        "  return"
      ],
      "execution_count": null,
      "outputs": []
    },
    {
      "cell_type": "code",
      "metadata": {
        "id": "cdsZQmzuQqI8"
      },
      "source": [
        "specialist(train)"
      ],
      "execution_count": null,
      "outputs": []
    },
    {
      "cell_type": "code",
      "metadata": {
        "id": "mlduZ1RGRnqn"
      },
      "source": [
        "specialist(test)"
      ],
      "execution_count": null,
      "outputs": []
    },
    {
      "cell_type": "code",
      "metadata": {
        "colab": {
          "base_uri": "https://localhost:8080/"
        },
        "id": "pBHu6Ps2I6Mk",
        "outputId": "e2138b9a-5978-48f0-9518-83d009029ebb"
      },
      "source": [
        "train[\"occyp_type\"].unique()"
      ],
      "execution_count": null,
      "outputs": [
        {
          "output_type": "execute_result",
          "data": {
            "text/plain": [
              "array(['unknown', 'Laborers', 'Managers', 'Sales staff', 'specialist',\n",
              "       'Core staff', 'Drivers', 'No job'], dtype=object)"
            ]
          },
          "metadata": {
            "tags": []
          },
          "execution_count": 13
        }
      ]
    },
    {
      "cell_type": "markdown",
      "metadata": {
        "id": "-VFxeBxqVd31"
      },
      "source": [
        "## Data 전처리\n",
        "### Feature selection"
      ]
    },
    {
      "cell_type": "code",
      "metadata": {
        "id": "GKRmdbbjVYBZ"
      },
      "source": [
        "train= train.drop(['child_num', 'FLAG_MOBIL', 'house_type', 'edu_type', 'gender', 'phone', 'email', 'family_type', 'family_size', 'car', 'work_phone'],axis=1)\n",
        "test= test.drop(['child_num', 'FLAG_MOBIL', 'house_type', 'edu_type', 'gender', 'phone', 'email', 'family_type', 'family_size', 'car', 'work_phone'],axis=1)"
      ],
      "execution_count": null,
      "outputs": []
    },
    {
      "cell_type": "code",
      "metadata": {
        "colab": {
          "base_uri": "https://localhost:8080/"
        },
        "id": "7pUUqxgYVjNr",
        "outputId": "d0302f09-cacc-4d7e-d8bb-415c66434ab9"
      },
      "source": [
        "train.count()"
      ],
      "execution_count": null,
      "outputs": [
        {
          "output_type": "execute_result",
          "data": {
            "text/plain": [
              "reality          26457\n",
              "income_total     26457\n",
              "income_type      26457\n",
              "DAYS_BIRTH       26457\n",
              "DAYS_EMPLOYED    26457\n",
              "occyp_type       26457\n",
              "begin_month      26457\n",
              "credit           26457\n",
              "dtype: int64"
            ]
          },
          "metadata": {
            "tags": []
          },
          "execution_count": 15
        }
      ]
    },
    {
      "cell_type": "code",
      "metadata": {
        "id": "DzffPvLS2UTp"
      },
      "source": [
        "!pip install dataprep\n",
        "from dataprep.eda import create_report\n",
        "create_report(train)"
      ],
      "execution_count": null,
      "outputs": []
    },
    {
      "cell_type": "code",
      "metadata": {
        "colab": {
          "base_uri": "https://localhost:8080/"
        },
        "id": "1VlgpA_62873",
        "outputId": "46607871-47fb-44a9-c32a-8e3438e3ec3e"
      },
      "source": [
        "train['income_type'].unique()"
      ],
      "execution_count": null,
      "outputs": [
        {
          "output_type": "execute_result",
          "data": {
            "text/plain": [
              "array(['Commercial associate', 'Working', 'State servant', 'Pensioner',\n",
              "       'Student'], dtype=object)"
            ]
          },
          "metadata": {
            "tags": []
          },
          "execution_count": 16
        }
      ]
    },
    {
      "cell_type": "code",
      "metadata": {
        "id": "2ZKjrN-JDcX3"
      },
      "source": [
        "#Binary variables\n",
        "def binary(data):\n",
        "  print('Having house reality or not: ')\n",
        "  data['reality'] = data['reality'].replace(['N','Y'],[0,1])\n",
        "  print(data['reality'].value_counts())\n",
        "  print('--------------')\n"
      ],
      "execution_count": null,
      "outputs": []
    },
    {
      "cell_type": "code",
      "metadata": {
        "colab": {
          "base_uri": "https://localhost:8080/"
        },
        "id": "6zNaX6_yDvMW",
        "outputId": "85fb304c-31af-4e38-c6d0-c088fddd276b"
      },
      "source": [
        "binary(train)"
      ],
      "execution_count": null,
      "outputs": [
        {
          "output_type": "stream",
          "text": [
            "Having house reality or not: \n",
            "1    17830\n",
            "0     8627\n",
            "Name: reality, dtype: int64\n",
            "--------------\n"
          ],
          "name": "stdout"
        }
      ]
    },
    {
      "cell_type": "code",
      "metadata": {
        "colab": {
          "base_uri": "https://localhost:8080/"
        },
        "id": "zjsMZjNRDy7k",
        "outputId": "214cbfd4-1c19-41fe-eff0-44a927d47b42"
      },
      "source": [
        "binary(test)"
      ],
      "execution_count": null,
      "outputs": [
        {
          "output_type": "stream",
          "text": [
            "Having house reality or not: \n",
            "1    6676\n",
            "0    3324\n",
            "Name: reality, dtype: int64\n",
            "--------------\n"
          ],
          "name": "stdout"
        }
      ]
    },
    {
      "cell_type": "code",
      "metadata": {
        "id": "wd4S0MXH9Zg-"
      },
      "source": [
        "def preprocess(data):\n",
        "  label_encoder = LabelEncoder()\n",
        "  data['income_type']=label_encoder.fit_transform(data['income_type'])\n",
        "  data['occyp_type']=label_encoder.fit_transform(data['occyp_type'])\n",
        "  return"
      ],
      "execution_count": null,
      "outputs": []
    },
    {
      "cell_type": "code",
      "metadata": {
        "id": "JeZoyD_dEQ8J"
      },
      "source": [
        "preprocess(train)\n",
        "preprocess(test)"
      ],
      "execution_count": null,
      "outputs": []
    },
    {
      "cell_type": "code",
      "metadata": {
        "colab": {
          "base_uri": "https://localhost:8080/",
          "height": 415
        },
        "id": "58oP-NLctKDf",
        "outputId": "4ffdee3f-e012-4fff-f9d5-8818bbddaccf"
      },
      "source": [
        "train"
      ],
      "execution_count": null,
      "outputs": [
        {
          "output_type": "execute_result",
          "data": {
            "text/html": [
              "<div>\n",
              "<style scoped>\n",
              "    .dataframe tbody tr th:only-of-type {\n",
              "        vertical-align: middle;\n",
              "    }\n",
              "\n",
              "    .dataframe tbody tr th {\n",
              "        vertical-align: top;\n",
              "    }\n",
              "\n",
              "    .dataframe thead th {\n",
              "        text-align: right;\n",
              "    }\n",
              "</style>\n",
              "<table border=\"1\" class=\"dataframe\">\n",
              "  <thead>\n",
              "    <tr style=\"text-align: right;\">\n",
              "      <th></th>\n",
              "      <th>reality</th>\n",
              "      <th>income_total</th>\n",
              "      <th>income_type</th>\n",
              "      <th>DAYS_BIRTH</th>\n",
              "      <th>DAYS_EMPLOYED</th>\n",
              "      <th>occyp_type</th>\n",
              "      <th>begin_month</th>\n",
              "      <th>credit</th>\n",
              "    </tr>\n",
              "  </thead>\n",
              "  <tbody>\n",
              "    <tr>\n",
              "      <th>0</th>\n",
              "      <td>0</td>\n",
              "      <td>202500.0</td>\n",
              "      <td>0</td>\n",
              "      <td>-13899</td>\n",
              "      <td>-4709</td>\n",
              "      <td>7</td>\n",
              "      <td>-6.0</td>\n",
              "      <td>1.0</td>\n",
              "    </tr>\n",
              "    <tr>\n",
              "      <th>1</th>\n",
              "      <td>1</td>\n",
              "      <td>247500.0</td>\n",
              "      <td>0</td>\n",
              "      <td>-11380</td>\n",
              "      <td>-1540</td>\n",
              "      <td>2</td>\n",
              "      <td>-5.0</td>\n",
              "      <td>1.0</td>\n",
              "    </tr>\n",
              "    <tr>\n",
              "      <th>2</th>\n",
              "      <td>1</td>\n",
              "      <td>450000.0</td>\n",
              "      <td>4</td>\n",
              "      <td>-19087</td>\n",
              "      <td>-4434</td>\n",
              "      <td>3</td>\n",
              "      <td>-22.0</td>\n",
              "      <td>2.0</td>\n",
              "    </tr>\n",
              "    <tr>\n",
              "      <th>3</th>\n",
              "      <td>1</td>\n",
              "      <td>202500.0</td>\n",
              "      <td>0</td>\n",
              "      <td>-15088</td>\n",
              "      <td>-2092</td>\n",
              "      <td>5</td>\n",
              "      <td>-37.0</td>\n",
              "      <td>0.0</td>\n",
              "    </tr>\n",
              "    <tr>\n",
              "      <th>4</th>\n",
              "      <td>1</td>\n",
              "      <td>157500.0</td>\n",
              "      <td>2</td>\n",
              "      <td>-15037</td>\n",
              "      <td>-2105</td>\n",
              "      <td>3</td>\n",
              "      <td>-26.0</td>\n",
              "      <td>2.0</td>\n",
              "    </tr>\n",
              "    <tr>\n",
              "      <th>...</th>\n",
              "      <td>...</td>\n",
              "      <td>...</td>\n",
              "      <td>...</td>\n",
              "      <td>...</td>\n",
              "      <td>...</td>\n",
              "      <td>...</td>\n",
              "      <td>...</td>\n",
              "      <td>...</td>\n",
              "    </tr>\n",
              "    <tr>\n",
              "      <th>26452</th>\n",
              "      <td>0</td>\n",
              "      <td>225000.0</td>\n",
              "      <td>2</td>\n",
              "      <td>-12079</td>\n",
              "      <td>-1984</td>\n",
              "      <td>0</td>\n",
              "      <td>-2.0</td>\n",
              "      <td>1.0</td>\n",
              "    </tr>\n",
              "    <tr>\n",
              "      <th>26453</th>\n",
              "      <td>1</td>\n",
              "      <td>180000.0</td>\n",
              "      <td>4</td>\n",
              "      <td>-15291</td>\n",
              "      <td>-2475</td>\n",
              "      <td>7</td>\n",
              "      <td>-47.0</td>\n",
              "      <td>2.0</td>\n",
              "    </tr>\n",
              "    <tr>\n",
              "      <th>26454</th>\n",
              "      <td>0</td>\n",
              "      <td>292500.0</td>\n",
              "      <td>4</td>\n",
              "      <td>-10082</td>\n",
              "      <td>-2015</td>\n",
              "      <td>0</td>\n",
              "      <td>-25.0</td>\n",
              "      <td>2.0</td>\n",
              "    </tr>\n",
              "    <tr>\n",
              "      <th>26455</th>\n",
              "      <td>1</td>\n",
              "      <td>171000.0</td>\n",
              "      <td>4</td>\n",
              "      <td>-10145</td>\n",
              "      <td>-107</td>\n",
              "      <td>2</td>\n",
              "      <td>-59.0</td>\n",
              "      <td>2.0</td>\n",
              "    </tr>\n",
              "    <tr>\n",
              "      <th>26456</th>\n",
              "      <td>0</td>\n",
              "      <td>81000.0</td>\n",
              "      <td>4</td>\n",
              "      <td>-19569</td>\n",
              "      <td>-1013</td>\n",
              "      <td>5</td>\n",
              "      <td>-9.0</td>\n",
              "      <td>2.0</td>\n",
              "    </tr>\n",
              "  </tbody>\n",
              "</table>\n",
              "<p>26457 rows × 8 columns</p>\n",
              "</div>"
            ],
            "text/plain": [
              "       reality  income_total  income_type  ...  occyp_type  begin_month  credit\n",
              "0            0      202500.0            0  ...           7         -6.0     1.0\n",
              "1            1      247500.0            0  ...           2         -5.0     1.0\n",
              "2            1      450000.0            4  ...           3        -22.0     2.0\n",
              "3            1      202500.0            0  ...           5        -37.0     0.0\n",
              "4            1      157500.0            2  ...           3        -26.0     2.0\n",
              "...        ...           ...          ...  ...         ...          ...     ...\n",
              "26452        0      225000.0            2  ...           0         -2.0     1.0\n",
              "26453        1      180000.0            4  ...           7        -47.0     2.0\n",
              "26454        0      292500.0            4  ...           0        -25.0     2.0\n",
              "26455        1      171000.0            4  ...           2        -59.0     2.0\n",
              "26456        0       81000.0            4  ...           5         -9.0     2.0\n",
              "\n",
              "[26457 rows x 8 columns]"
            ]
          },
          "metadata": {
            "tags": []
          },
          "execution_count": 22
        }
      ]
    },
    {
      "cell_type": "markdown",
      "metadata": {
        "id": "7lOmTSjaCUFx"
      },
      "source": [
        "### Normalization"
      ]
    },
    {
      "cell_type": "code",
      "metadata": {
        "id": "dgVcI9fTCTWC"
      },
      "source": [
        "continuos_variable = ['income_total','DAYS_BIRTH', 'DAYS_EMPLOYED','begin_month']\n",
        "train_continuos = train[continuos_variable]\n",
        "test_continuos = test[continuos_variable]\n",
        "train_continuos_copy = train[continuos_variable]\n",
        "test_continuos_copy = test[continuos_variable]"
      ],
      "execution_count": null,
      "outputs": []
    },
    {
      "cell_type": "code",
      "metadata": {
        "colab": {
          "base_uri": "https://localhost:8080/"
        },
        "id": "FkH4ZNC5D6MH",
        "outputId": "922dc7d1-8396-417f-9b3f-a3a0ce0b070f"
      },
      "source": [
        "train_continuos_copy.columns"
      ],
      "execution_count": null,
      "outputs": [
        {
          "output_type": "execute_result",
          "data": {
            "text/plain": [
              "Index(['income_total', 'DAYS_BIRTH', 'DAYS_EMPLOYED', 'begin_month'], dtype='object')"
            ]
          },
          "metadata": {
            "tags": []
          },
          "execution_count": 24
        }
      ]
    },
    {
      "cell_type": "code",
      "metadata": {
        "id": "yE0UqDgVCb1f"
      },
      "source": [
        "from sklearn.preprocessing import StandardScaler\n",
        "scaler = StandardScaler()\n",
        "scaler = scaler.fit(train_continuos)\n",
        "train_continuos_scaled = scaler.transform(train_continuos)\n",
        "test_continuos_scaled = scaler.transform(test_continuos)\n",
        "\n",
        "train_df_continuos_scaled = pd.DataFrame(train_continuos_scaled, columns=train_continuos_copy.columns, index=list(train_continuos_copy.index.values))\n",
        "test_df_continuos_scaled = pd.DataFrame(test_continuos_scaled, columns=test_continuos_copy.columns, index=list(test_continuos_copy.index.values))\n"
      ],
      "execution_count": null,
      "outputs": []
    },
    {
      "cell_type": "code",
      "metadata": {
        "colab": {
          "base_uri": "https://localhost:8080/",
          "height": 415
        },
        "id": "C5YySbVKEGfL",
        "outputId": "24aea04f-355d-42c5-e855-c3f35fa30336"
      },
      "source": [
        "train_df_continuos_scaled"
      ],
      "execution_count": null,
      "outputs": [
        {
          "output_type": "execute_result",
          "data": {
            "text/html": [
              "<div>\n",
              "<style scoped>\n",
              "    .dataframe tbody tr th:only-of-type {\n",
              "        vertical-align: middle;\n",
              "    }\n",
              "\n",
              "    .dataframe tbody tr th {\n",
              "        vertical-align: top;\n",
              "    }\n",
              "\n",
              "    .dataframe thead th {\n",
              "        text-align: right;\n",
              "    }\n",
              "</style>\n",
              "<table border=\"1\" class=\"dataframe\">\n",
              "  <thead>\n",
              "    <tr style=\"text-align: right;\">\n",
              "      <th></th>\n",
              "      <th>income_total</th>\n",
              "      <th>DAYS_BIRTH</th>\n",
              "      <th>DAYS_EMPLOYED</th>\n",
              "      <th>begin_month</th>\n",
              "    </tr>\n",
              "  </thead>\n",
              "  <tbody>\n",
              "    <tr>\n",
              "      <th>0</th>\n",
              "      <td>0.149136</td>\n",
              "      <td>0.490075</td>\n",
              "      <td>-0.463930</td>\n",
              "      <td>1.215231</td>\n",
              "    </tr>\n",
              "    <tr>\n",
              "      <th>1</th>\n",
              "      <td>0.590848</td>\n",
              "      <td>1.089621</td>\n",
              "      <td>-0.440878</td>\n",
              "      <td>1.275620</td>\n",
              "    </tr>\n",
              "    <tr>\n",
              "      <th>2</th>\n",
              "      <td>2.578550</td>\n",
              "      <td>-0.744719</td>\n",
              "      <td>-0.461929</td>\n",
              "      <td>0.249003</td>\n",
              "    </tr>\n",
              "    <tr>\n",
              "      <th>3</th>\n",
              "      <td>0.149136</td>\n",
              "      <td>0.207081</td>\n",
              "      <td>-0.444893</td>\n",
              "      <td>-0.656836</td>\n",
              "    </tr>\n",
              "    <tr>\n",
              "      <th>4</th>\n",
              "      <td>-0.292575</td>\n",
              "      <td>0.219220</td>\n",
              "      <td>-0.444988</td>\n",
              "      <td>0.007446</td>\n",
              "    </tr>\n",
              "    <tr>\n",
              "      <th>...</th>\n",
              "      <td>...</td>\n",
              "      <td>...</td>\n",
              "      <td>...</td>\n",
              "      <td>...</td>\n",
              "    </tr>\n",
              "    <tr>\n",
              "      <th>26452</th>\n",
              "      <td>0.369992</td>\n",
              "      <td>0.923252</td>\n",
              "      <td>-0.444108</td>\n",
              "      <td>1.456788</td>\n",
              "    </tr>\n",
              "    <tr>\n",
              "      <th>26453</th>\n",
              "      <td>-0.071719</td>\n",
              "      <td>0.158765</td>\n",
              "      <td>-0.447679</td>\n",
              "      <td>-1.260729</td>\n",
              "    </tr>\n",
              "    <tr>\n",
              "      <th>26454</th>\n",
              "      <td>1.032559</td>\n",
              "      <td>1.398558</td>\n",
              "      <td>-0.444333</td>\n",
              "      <td>0.067835</td>\n",
              "    </tr>\n",
              "    <tr>\n",
              "      <th>26455</th>\n",
              "      <td>-0.160062</td>\n",
              "      <td>1.383563</td>\n",
              "      <td>-0.430454</td>\n",
              "      <td>-1.985400</td>\n",
              "    </tr>\n",
              "    <tr>\n",
              "      <th>26456</th>\n",
              "      <td>-1.043485</td>\n",
              "      <td>-0.859440</td>\n",
              "      <td>-0.437045</td>\n",
              "      <td>1.034063</td>\n",
              "    </tr>\n",
              "  </tbody>\n",
              "</table>\n",
              "<p>26457 rows × 4 columns</p>\n",
              "</div>"
            ],
            "text/plain": [
              "       income_total  DAYS_BIRTH  DAYS_EMPLOYED  begin_month\n",
              "0          0.149136    0.490075      -0.463930     1.215231\n",
              "1          0.590848    1.089621      -0.440878     1.275620\n",
              "2          2.578550   -0.744719      -0.461929     0.249003\n",
              "3          0.149136    0.207081      -0.444893    -0.656836\n",
              "4         -0.292575    0.219220      -0.444988     0.007446\n",
              "...             ...         ...            ...          ...\n",
              "26452      0.369992    0.923252      -0.444108     1.456788\n",
              "26453     -0.071719    0.158765      -0.447679    -1.260729\n",
              "26454      1.032559    1.398558      -0.444333     0.067835\n",
              "26455     -0.160062    1.383563      -0.430454    -1.985400\n",
              "26456     -1.043485   -0.859440      -0.437045     1.034063\n",
              "\n",
              "[26457 rows x 4 columns]"
            ]
          },
          "metadata": {
            "tags": []
          },
          "execution_count": 26
        }
      ]
    },
    {
      "cell_type": "code",
      "metadata": {
        "id": "_-lH5hwhCdkm"
      },
      "source": [
        "train = train.drop(columns=continuos_variable)\n",
        "test = test.drop(columns=continuos_variable)\n",
        "train = pd.concat([train,train_df_continuos_scaled], axis = 1)\n",
        "test = pd.concat([test,test_df_continuos_scaled], axis = 1)"
      ],
      "execution_count": null,
      "outputs": []
    },
    {
      "cell_type": "code",
      "metadata": {
        "colab": {
          "base_uri": "https://localhost:8080/",
          "height": 415
        },
        "id": "EMUQ_3cPEOav",
        "outputId": "c182458c-3f66-410f-cbff-489da96cad64"
      },
      "source": [
        "train"
      ],
      "execution_count": null,
      "outputs": [
        {
          "output_type": "execute_result",
          "data": {
            "text/html": [
              "<div>\n",
              "<style scoped>\n",
              "    .dataframe tbody tr th:only-of-type {\n",
              "        vertical-align: middle;\n",
              "    }\n",
              "\n",
              "    .dataframe tbody tr th {\n",
              "        vertical-align: top;\n",
              "    }\n",
              "\n",
              "    .dataframe thead th {\n",
              "        text-align: right;\n",
              "    }\n",
              "</style>\n",
              "<table border=\"1\" class=\"dataframe\">\n",
              "  <thead>\n",
              "    <tr style=\"text-align: right;\">\n",
              "      <th></th>\n",
              "      <th>reality</th>\n",
              "      <th>income_type</th>\n",
              "      <th>occyp_type</th>\n",
              "      <th>credit</th>\n",
              "      <th>income_total</th>\n",
              "      <th>DAYS_BIRTH</th>\n",
              "      <th>DAYS_EMPLOYED</th>\n",
              "      <th>begin_month</th>\n",
              "    </tr>\n",
              "  </thead>\n",
              "  <tbody>\n",
              "    <tr>\n",
              "      <th>0</th>\n",
              "      <td>0</td>\n",
              "      <td>0</td>\n",
              "      <td>7</td>\n",
              "      <td>1.0</td>\n",
              "      <td>0.149136</td>\n",
              "      <td>0.490075</td>\n",
              "      <td>-0.463930</td>\n",
              "      <td>1.215231</td>\n",
              "    </tr>\n",
              "    <tr>\n",
              "      <th>1</th>\n",
              "      <td>1</td>\n",
              "      <td>0</td>\n",
              "      <td>2</td>\n",
              "      <td>1.0</td>\n",
              "      <td>0.590848</td>\n",
              "      <td>1.089621</td>\n",
              "      <td>-0.440878</td>\n",
              "      <td>1.275620</td>\n",
              "    </tr>\n",
              "    <tr>\n",
              "      <th>2</th>\n",
              "      <td>1</td>\n",
              "      <td>4</td>\n",
              "      <td>3</td>\n",
              "      <td>2.0</td>\n",
              "      <td>2.578550</td>\n",
              "      <td>-0.744719</td>\n",
              "      <td>-0.461929</td>\n",
              "      <td>0.249003</td>\n",
              "    </tr>\n",
              "    <tr>\n",
              "      <th>3</th>\n",
              "      <td>1</td>\n",
              "      <td>0</td>\n",
              "      <td>5</td>\n",
              "      <td>0.0</td>\n",
              "      <td>0.149136</td>\n",
              "      <td>0.207081</td>\n",
              "      <td>-0.444893</td>\n",
              "      <td>-0.656836</td>\n",
              "    </tr>\n",
              "    <tr>\n",
              "      <th>4</th>\n",
              "      <td>1</td>\n",
              "      <td>2</td>\n",
              "      <td>3</td>\n",
              "      <td>2.0</td>\n",
              "      <td>-0.292575</td>\n",
              "      <td>0.219220</td>\n",
              "      <td>-0.444988</td>\n",
              "      <td>0.007446</td>\n",
              "    </tr>\n",
              "    <tr>\n",
              "      <th>...</th>\n",
              "      <td>...</td>\n",
              "      <td>...</td>\n",
              "      <td>...</td>\n",
              "      <td>...</td>\n",
              "      <td>...</td>\n",
              "      <td>...</td>\n",
              "      <td>...</td>\n",
              "      <td>...</td>\n",
              "    </tr>\n",
              "    <tr>\n",
              "      <th>26452</th>\n",
              "      <td>0</td>\n",
              "      <td>2</td>\n",
              "      <td>0</td>\n",
              "      <td>1.0</td>\n",
              "      <td>0.369992</td>\n",
              "      <td>0.923252</td>\n",
              "      <td>-0.444108</td>\n",
              "      <td>1.456788</td>\n",
              "    </tr>\n",
              "    <tr>\n",
              "      <th>26453</th>\n",
              "      <td>1</td>\n",
              "      <td>4</td>\n",
              "      <td>7</td>\n",
              "      <td>2.0</td>\n",
              "      <td>-0.071719</td>\n",
              "      <td>0.158765</td>\n",
              "      <td>-0.447679</td>\n",
              "      <td>-1.260729</td>\n",
              "    </tr>\n",
              "    <tr>\n",
              "      <th>26454</th>\n",
              "      <td>0</td>\n",
              "      <td>4</td>\n",
              "      <td>0</td>\n",
              "      <td>2.0</td>\n",
              "      <td>1.032559</td>\n",
              "      <td>1.398558</td>\n",
              "      <td>-0.444333</td>\n",
              "      <td>0.067835</td>\n",
              "    </tr>\n",
              "    <tr>\n",
              "      <th>26455</th>\n",
              "      <td>1</td>\n",
              "      <td>4</td>\n",
              "      <td>2</td>\n",
              "      <td>2.0</td>\n",
              "      <td>-0.160062</td>\n",
              "      <td>1.383563</td>\n",
              "      <td>-0.430454</td>\n",
              "      <td>-1.985400</td>\n",
              "    </tr>\n",
              "    <tr>\n",
              "      <th>26456</th>\n",
              "      <td>0</td>\n",
              "      <td>4</td>\n",
              "      <td>5</td>\n",
              "      <td>2.0</td>\n",
              "      <td>-1.043485</td>\n",
              "      <td>-0.859440</td>\n",
              "      <td>-0.437045</td>\n",
              "      <td>1.034063</td>\n",
              "    </tr>\n",
              "  </tbody>\n",
              "</table>\n",
              "<p>26457 rows × 8 columns</p>\n",
              "</div>"
            ],
            "text/plain": [
              "       reality  income_type  occyp_type  ...  DAYS_BIRTH  DAYS_EMPLOYED  begin_month\n",
              "0            0            0           7  ...    0.490075      -0.463930     1.215231\n",
              "1            1            0           2  ...    1.089621      -0.440878     1.275620\n",
              "2            1            4           3  ...   -0.744719      -0.461929     0.249003\n",
              "3            1            0           5  ...    0.207081      -0.444893    -0.656836\n",
              "4            1            2           3  ...    0.219220      -0.444988     0.007446\n",
              "...        ...          ...         ...  ...         ...            ...          ...\n",
              "26452        0            2           0  ...    0.923252      -0.444108     1.456788\n",
              "26453        1            4           7  ...    0.158765      -0.447679    -1.260729\n",
              "26454        0            4           0  ...    1.398558      -0.444333     0.067835\n",
              "26455        1            4           2  ...    1.383563      -0.430454    -1.985400\n",
              "26456        0            4           5  ...   -0.859440      -0.437045     1.034063\n",
              "\n",
              "[26457 rows x 8 columns]"
            ]
          },
          "metadata": {
            "tags": []
          },
          "execution_count": 28
        }
      ]
    },
    {
      "cell_type": "code",
      "metadata": {
        "colab": {
          "base_uri": "https://localhost:8080/",
          "height": 415
        },
        "id": "LEJWlj8ZCgil",
        "outputId": "aa90fccb-0225-44bc-c7bc-64e763c2308e"
      },
      "source": [
        "test"
      ],
      "execution_count": null,
      "outputs": [
        {
          "output_type": "execute_result",
          "data": {
            "text/html": [
              "<div>\n",
              "<style scoped>\n",
              "    .dataframe tbody tr th:only-of-type {\n",
              "        vertical-align: middle;\n",
              "    }\n",
              "\n",
              "    .dataframe tbody tr th {\n",
              "        vertical-align: top;\n",
              "    }\n",
              "\n",
              "    .dataframe thead th {\n",
              "        text-align: right;\n",
              "    }\n",
              "</style>\n",
              "<table border=\"1\" class=\"dataframe\">\n",
              "  <thead>\n",
              "    <tr style=\"text-align: right;\">\n",
              "      <th></th>\n",
              "      <th>reality</th>\n",
              "      <th>income_type</th>\n",
              "      <th>occyp_type</th>\n",
              "      <th>income_total</th>\n",
              "      <th>DAYS_BIRTH</th>\n",
              "      <th>DAYS_EMPLOYED</th>\n",
              "      <th>begin_month</th>\n",
              "    </tr>\n",
              "  </thead>\n",
              "  <tbody>\n",
              "    <tr>\n",
              "      <th>0</th>\n",
              "      <td>0</td>\n",
              "      <td>1</td>\n",
              "      <td>4</td>\n",
              "      <td>-0.734287</td>\n",
              "      <td>-1.435662</td>\n",
              "      <td>2.227162</td>\n",
              "      <td>-2.045789</td>\n",
              "    </tr>\n",
              "    <tr>\n",
              "      <th>1</th>\n",
              "      <td>1</td>\n",
              "      <td>2</td>\n",
              "      <td>0</td>\n",
              "      <td>-0.513431</td>\n",
              "      <td>-0.715444</td>\n",
              "      <td>-0.492750</td>\n",
              "      <td>-0.596447</td>\n",
              "    </tr>\n",
              "    <tr>\n",
              "      <th>2</th>\n",
              "      <td>1</td>\n",
              "      <td>4</td>\n",
              "      <td>2</td>\n",
              "      <td>-1.157623</td>\n",
              "      <td>0.016912</td>\n",
              "      <td>-0.431254</td>\n",
              "      <td>-0.838004</td>\n",
              "    </tr>\n",
              "    <tr>\n",
              "      <th>3</th>\n",
              "      <td>0</td>\n",
              "      <td>0</td>\n",
              "      <td>1</td>\n",
              "      <td>-0.734287</td>\n",
              "      <td>-0.788275</td>\n",
              "      <td>-0.448087</td>\n",
              "      <td>-0.898393</td>\n",
              "    </tr>\n",
              "    <tr>\n",
              "      <th>4</th>\n",
              "      <td>1</td>\n",
              "      <td>2</td>\n",
              "      <td>3</td>\n",
              "      <td>0.369992</td>\n",
              "      <td>-0.443637</td>\n",
              "      <td>-0.497944</td>\n",
              "      <td>1.094452</td>\n",
              "    </tr>\n",
              "    <tr>\n",
              "      <th>...</th>\n",
              "      <td>...</td>\n",
              "      <td>...</td>\n",
              "      <td>...</td>\n",
              "      <td>...</td>\n",
              "      <td>...</td>\n",
              "      <td>...</td>\n",
              "      <td>...</td>\n",
              "    </tr>\n",
              "    <tr>\n",
              "      <th>9995</th>\n",
              "      <td>1</td>\n",
              "      <td>4</td>\n",
              "      <td>6</td>\n",
              "      <td>0.149136</td>\n",
              "      <td>-0.627143</td>\n",
              "      <td>-0.469204</td>\n",
              "      <td>0.430170</td>\n",
              "    </tr>\n",
              "    <tr>\n",
              "      <th>9996</th>\n",
              "      <td>1</td>\n",
              "      <td>4</td>\n",
              "      <td>2</td>\n",
              "      <td>0.149136</td>\n",
              "      <td>1.207198</td>\n",
              "      <td>-0.439241</td>\n",
              "      <td>-0.475668</td>\n",
              "    </tr>\n",
              "    <tr>\n",
              "      <th>9997</th>\n",
              "      <td>1</td>\n",
              "      <td>4</td>\n",
              "      <td>6</td>\n",
              "      <td>1.032559</td>\n",
              "      <td>-1.203840</td>\n",
              "      <td>-0.531645</td>\n",
              "      <td>-1.743843</td>\n",
              "    </tr>\n",
              "    <tr>\n",
              "      <th>9998</th>\n",
              "      <td>0</td>\n",
              "      <td>0</td>\n",
              "      <td>7</td>\n",
              "      <td>-0.071719</td>\n",
              "      <td>-0.138747</td>\n",
              "      <td>-0.437568</td>\n",
              "      <td>-0.415279</td>\n",
              "    </tr>\n",
              "    <tr>\n",
              "      <th>9999</th>\n",
              "      <td>1</td>\n",
              "      <td>4</td>\n",
              "      <td>2</td>\n",
              "      <td>0.811704</td>\n",
              "      <td>1.619431</td>\n",
              "      <td>-0.431036</td>\n",
              "      <td>0.913284</td>\n",
              "    </tr>\n",
              "  </tbody>\n",
              "</table>\n",
              "<p>10000 rows × 7 columns</p>\n",
              "</div>"
            ],
            "text/plain": [
              "      reality  income_type  occyp_type  ...  DAYS_BIRTH  DAYS_EMPLOYED  begin_month\n",
              "0           0            1           4  ...   -1.435662       2.227162    -2.045789\n",
              "1           1            2           0  ...   -0.715444      -0.492750    -0.596447\n",
              "2           1            4           2  ...    0.016912      -0.431254    -0.838004\n",
              "3           0            0           1  ...   -0.788275      -0.448087    -0.898393\n",
              "4           1            2           3  ...   -0.443637      -0.497944     1.094452\n",
              "...       ...          ...         ...  ...         ...            ...          ...\n",
              "9995        1            4           6  ...   -0.627143      -0.469204     0.430170\n",
              "9996        1            4           2  ...    1.207198      -0.439241    -0.475668\n",
              "9997        1            4           6  ...   -1.203840      -0.531645    -1.743843\n",
              "9998        0            0           7  ...   -0.138747      -0.437568    -0.415279\n",
              "9999        1            4           2  ...    1.619431      -0.431036     0.913284\n",
              "\n",
              "[10000 rows x 7 columns]"
            ]
          },
          "metadata": {
            "tags": []
          },
          "execution_count": 29
        }
      ]
    },
    {
      "cell_type": "code",
      "metadata": {
        "id": "0goOjVSIMLTp"
      },
      "source": [
        "train = train.reindex(['reality',\t'income_total',\t'income_type',\t'DAYS_BIRTH',\t'DAYS_EMPLOYED',\t'occyp_type',\t'begin_month', \t'credit'], axis=1)\n",
        "test = test.reindex(['reality',\t'income_total',\t'income_type',\t'DAYS_BIRTH',\t'DAYS_EMPLOYED',\t'occyp_type',\t'begin_month'], axis=1)"
      ],
      "execution_count": null,
      "outputs": []
    },
    {
      "cell_type": "code",
      "metadata": {
        "colab": {
          "base_uri": "https://localhost:8080/",
          "height": 415
        },
        "id": "HQKJY50wM4M7",
        "outputId": "f5535c7f-2138-4798-afb8-c9664b1b8656"
      },
      "source": [
        "test"
      ],
      "execution_count": null,
      "outputs": [
        {
          "output_type": "execute_result",
          "data": {
            "text/html": [
              "<div>\n",
              "<style scoped>\n",
              "    .dataframe tbody tr th:only-of-type {\n",
              "        vertical-align: middle;\n",
              "    }\n",
              "\n",
              "    .dataframe tbody tr th {\n",
              "        vertical-align: top;\n",
              "    }\n",
              "\n",
              "    .dataframe thead th {\n",
              "        text-align: right;\n",
              "    }\n",
              "</style>\n",
              "<table border=\"1\" class=\"dataframe\">\n",
              "  <thead>\n",
              "    <tr style=\"text-align: right;\">\n",
              "      <th></th>\n",
              "      <th>reality</th>\n",
              "      <th>income_total</th>\n",
              "      <th>income_type</th>\n",
              "      <th>DAYS_BIRTH</th>\n",
              "      <th>DAYS_EMPLOYED</th>\n",
              "      <th>occyp_type</th>\n",
              "      <th>begin_month</th>\n",
              "    </tr>\n",
              "  </thead>\n",
              "  <tbody>\n",
              "    <tr>\n",
              "      <th>0</th>\n",
              "      <td>0</td>\n",
              "      <td>-0.734287</td>\n",
              "      <td>1</td>\n",
              "      <td>-1.435662</td>\n",
              "      <td>2.227162</td>\n",
              "      <td>4</td>\n",
              "      <td>-2.045789</td>\n",
              "    </tr>\n",
              "    <tr>\n",
              "      <th>1</th>\n",
              "      <td>1</td>\n",
              "      <td>-0.513431</td>\n",
              "      <td>2</td>\n",
              "      <td>-0.715444</td>\n",
              "      <td>-0.492750</td>\n",
              "      <td>0</td>\n",
              "      <td>-0.596447</td>\n",
              "    </tr>\n",
              "    <tr>\n",
              "      <th>2</th>\n",
              "      <td>1</td>\n",
              "      <td>-1.157623</td>\n",
              "      <td>4</td>\n",
              "      <td>0.016912</td>\n",
              "      <td>-0.431254</td>\n",
              "      <td>2</td>\n",
              "      <td>-0.838004</td>\n",
              "    </tr>\n",
              "    <tr>\n",
              "      <th>3</th>\n",
              "      <td>0</td>\n",
              "      <td>-0.734287</td>\n",
              "      <td>0</td>\n",
              "      <td>-0.788275</td>\n",
              "      <td>-0.448087</td>\n",
              "      <td>1</td>\n",
              "      <td>-0.898393</td>\n",
              "    </tr>\n",
              "    <tr>\n",
              "      <th>4</th>\n",
              "      <td>1</td>\n",
              "      <td>0.369992</td>\n",
              "      <td>2</td>\n",
              "      <td>-0.443637</td>\n",
              "      <td>-0.497944</td>\n",
              "      <td>3</td>\n",
              "      <td>1.094452</td>\n",
              "    </tr>\n",
              "    <tr>\n",
              "      <th>...</th>\n",
              "      <td>...</td>\n",
              "      <td>...</td>\n",
              "      <td>...</td>\n",
              "      <td>...</td>\n",
              "      <td>...</td>\n",
              "      <td>...</td>\n",
              "      <td>...</td>\n",
              "    </tr>\n",
              "    <tr>\n",
              "      <th>9995</th>\n",
              "      <td>1</td>\n",
              "      <td>0.149136</td>\n",
              "      <td>4</td>\n",
              "      <td>-0.627143</td>\n",
              "      <td>-0.469204</td>\n",
              "      <td>6</td>\n",
              "      <td>0.430170</td>\n",
              "    </tr>\n",
              "    <tr>\n",
              "      <th>9996</th>\n",
              "      <td>1</td>\n",
              "      <td>0.149136</td>\n",
              "      <td>4</td>\n",
              "      <td>1.207198</td>\n",
              "      <td>-0.439241</td>\n",
              "      <td>2</td>\n",
              "      <td>-0.475668</td>\n",
              "    </tr>\n",
              "    <tr>\n",
              "      <th>9997</th>\n",
              "      <td>1</td>\n",
              "      <td>1.032559</td>\n",
              "      <td>4</td>\n",
              "      <td>-1.203840</td>\n",
              "      <td>-0.531645</td>\n",
              "      <td>6</td>\n",
              "      <td>-1.743843</td>\n",
              "    </tr>\n",
              "    <tr>\n",
              "      <th>9998</th>\n",
              "      <td>0</td>\n",
              "      <td>-0.071719</td>\n",
              "      <td>0</td>\n",
              "      <td>-0.138747</td>\n",
              "      <td>-0.437568</td>\n",
              "      <td>7</td>\n",
              "      <td>-0.415279</td>\n",
              "    </tr>\n",
              "    <tr>\n",
              "      <th>9999</th>\n",
              "      <td>1</td>\n",
              "      <td>0.811704</td>\n",
              "      <td>4</td>\n",
              "      <td>1.619431</td>\n",
              "      <td>-0.431036</td>\n",
              "      <td>2</td>\n",
              "      <td>0.913284</td>\n",
              "    </tr>\n",
              "  </tbody>\n",
              "</table>\n",
              "<p>10000 rows × 7 columns</p>\n",
              "</div>"
            ],
            "text/plain": [
              "      reality  income_total  ...  occyp_type  begin_month\n",
              "0           0     -0.734287  ...           4    -2.045789\n",
              "1           1     -0.513431  ...           0    -0.596447\n",
              "2           1     -1.157623  ...           2    -0.838004\n",
              "3           0     -0.734287  ...           1    -0.898393\n",
              "4           1      0.369992  ...           3     1.094452\n",
              "...       ...           ...  ...         ...          ...\n",
              "9995        1      0.149136  ...           6     0.430170\n",
              "9996        1      0.149136  ...           2    -0.475668\n",
              "9997        1      1.032559  ...           6    -1.743843\n",
              "9998        0     -0.071719  ...           7    -0.415279\n",
              "9999        1      0.811704  ...           2     0.913284\n",
              "\n",
              "[10000 rows x 7 columns]"
            ]
          },
          "metadata": {
            "tags": []
          },
          "execution_count": 31
        }
      ]
    },
    {
      "cell_type": "code",
      "metadata": {
        "id": "mbUWy72M-cgs"
      },
      "source": [
        "X=train.drop('credit',axis=1)\n",
        "y=train['credit']"
      ],
      "execution_count": null,
      "outputs": []
    },
    {
      "cell_type": "markdown",
      "metadata": {
        "id": "m2whG1XcUb1E"
      },
      "source": [
        ""
      ]
    },
    {
      "cell_type": "code",
      "metadata": {
        "id": "qKNlbmNIFOEb"
      },
      "source": [
        "def objective(trial,train=train,target=y):\n",
        "\n",
        "  X_train,X_test,y_train,y_test=train_test_split(X,y,test_size=0.2,random_state=2)\n",
        "\n",
        "  param={\n",
        "      'max_depth':trial.suggest_int('max_depth',20,30),\n",
        "      'learning_rate':trial.suggest_categorical('learning_rate',[0.01]),\n",
        "      'subsample':trial.suggest_categorical('subsample',[0.3,0.4,0.5,0.6,0.7,0.8,0.9]),\n",
        "      'colsample_bytree':trial.suggest_categorical('colsample_bytree',[0.3,0.4,0.5,0.6,0.7,0.8,0.9]),\n",
        "      'eval_metric': 'mlogloss',\n",
        "      'objective' : 'multi:softprob',\n",
        "      'random_state': 2,\n",
        "      'n_estimators': 1000\n",
        "  }\n",
        "\n",
        "  model=XGBClassifier(**param)\n",
        "\n",
        "  model.fit(X_train,y_train,eval_set=[(X_test,y_test)],early_stopping_rounds=30,verbose=False)\n",
        "\n",
        "  predictions=model.predict_proba(X_test)\n",
        "\n",
        "  logloss = log_loss(y_test,predictions)\n",
        "  return logloss"
      ],
      "execution_count": null,
      "outputs": []
    },
    {
      "cell_type": "code",
      "metadata": {
        "colab": {
          "base_uri": "https://localhost:8080/",
          "height": 817
        },
        "id": "cR-Z3ZVcF5OZ",
        "outputId": "2990cf90-8c8f-4143-8bc0-b623bb7bb43f"
      },
      "source": [
        "study = optuna.create_study(direction='minimize')\n",
        "study.optimize(objective, n_trials=50)\n",
        "study.best_params"
      ],
      "execution_count": null,
      "outputs": [
        {
          "output_type": "stream",
          "text": [
            "\u001b[32m[I 2021-05-12 11:30:39,834]\u001b[0m A new study created in memory with name: no-name-108ea643-10f7-4655-bf49-bfa3f5ef6d95\u001b[0m\n",
            "\u001b[32m[I 2021-05-12 11:31:51,177]\u001b[0m Trial 0 finished with value: 0.7101908293179604 and parameters: {'max_depth': 29, 'learning_rate': 0.01, 'subsample': 0.4, 'colsample_bytree': 0.4}. Best is trial 0 with value: 0.7101908293179604.\u001b[0m\n",
            "\u001b[32m[I 2021-05-12 11:32:51,750]\u001b[0m Trial 1 finished with value: 0.716151431974415 and parameters: {'max_depth': 20, 'learning_rate': 0.01, 'subsample': 0.9, 'colsample_bytree': 0.8}. Best is trial 0 with value: 0.7101908293179604.\u001b[0m\n",
            "\u001b[32m[I 2021-05-12 11:34:09,421]\u001b[0m Trial 2 finished with value: 0.7069248168955213 and parameters: {'max_depth': 30, 'learning_rate': 0.01, 'subsample': 0.5, 'colsample_bytree': 0.5}. Best is trial 2 with value: 0.7069248168955213.\u001b[0m\n",
            "\u001b[32m[I 2021-05-12 11:35:12,491]\u001b[0m Trial 3 finished with value: 0.7097148361882633 and parameters: {'max_depth': 20, 'learning_rate': 0.01, 'subsample': 0.8, 'colsample_bytree': 0.6}. Best is trial 2 with value: 0.7069248168955213.\u001b[0m\n",
            "\u001b[32m[I 2021-05-12 11:36:08,762]\u001b[0m Trial 4 finished with value: 0.7065049057185103 and parameters: {'max_depth': 30, 'learning_rate': 0.01, 'subsample': 0.9, 'colsample_bytree': 0.3}. Best is trial 4 with value: 0.7065049057185103.\u001b[0m\n",
            "\u001b[32m[I 2021-05-12 11:37:25,935]\u001b[0m Trial 5 finished with value: 0.7128230907995808 and parameters: {'max_depth': 23, 'learning_rate': 0.01, 'subsample': 0.4, 'colsample_bytree': 0.6}. Best is trial 4 with value: 0.7065049057185103.\u001b[0m\n",
            "\u001b[32m[I 2021-05-12 11:38:37,714]\u001b[0m Trial 6 finished with value: 0.7063061375472236 and parameters: {'max_depth': 27, 'learning_rate': 0.01, 'subsample': 0.6, 'colsample_bytree': 0.4}. Best is trial 6 with value: 0.7063061375472236.\u001b[0m\n",
            "\u001b[32m[I 2021-05-12 11:39:37,899]\u001b[0m Trial 7 finished with value: 0.705161994074641 and parameters: {'max_depth': 26, 'learning_rate': 0.01, 'subsample': 0.8, 'colsample_bytree': 0.4}. Best is trial 7 with value: 0.705161994074641.\u001b[0m\n",
            "\u001b[32m[I 2021-05-12 11:40:34,224]\u001b[0m Trial 8 finished with value: 0.7050350793962559 and parameters: {'max_depth': 23, 'learning_rate': 0.01, 'subsample': 0.9, 'colsample_bytree': 0.4}. Best is trial 8 with value: 0.7050350793962559.\u001b[0m\n",
            "\u001b[32m[I 2021-05-12 11:41:44,835]\u001b[0m Trial 9 finished with value: 0.7122202047026481 and parameters: {'max_depth': 24, 'learning_rate': 0.01, 'subsample': 0.3, 'colsample_bytree': 0.4}. Best is trial 8 with value: 0.7050350793962559.\u001b[0m\n",
            "\u001b[32m[I 2021-05-12 11:42:55,640]\u001b[0m Trial 10 finished with value: 0.7223651638720536 and parameters: {'max_depth': 22, 'learning_rate': 0.01, 'subsample': 0.7, 'colsample_bytree': 0.9}. Best is trial 8 with value: 0.7050350793962559.\u001b[0m\n",
            "\u001b[32m[I 2021-05-12 11:44:06,077]\u001b[0m Trial 11 finished with value: 0.7105025800715116 and parameters: {'max_depth': 26, 'learning_rate': 0.01, 'subsample': 0.8, 'colsample_bytree': 0.7}. Best is trial 8 with value: 0.7050350793962559.\u001b[0m\n",
            "\u001b[32m[I 2021-05-12 11:45:07,724]\u001b[0m Trial 12 finished with value: 0.7052469203654798 and parameters: {'max_depth': 27, 'learning_rate': 0.01, 'subsample': 0.8, 'colsample_bytree': 0.4}. Best is trial 8 with value: 0.7050350793962559.\u001b[0m\n",
            "\u001b[32m[I 2021-05-12 11:46:05,753]\u001b[0m Trial 13 finished with value: 0.7051906113003156 and parameters: {'max_depth': 25, 'learning_rate': 0.01, 'subsample': 0.9, 'colsample_bytree': 0.4}. Best is trial 8 with value: 0.7050350793962559.\u001b[0m\n",
            "\u001b[32m[I 2021-05-12 11:47:13,207]\u001b[0m Trial 14 finished with value: 0.7263139505558791 and parameters: {'max_depth': 22, 'learning_rate': 0.01, 'subsample': 0.9, 'colsample_bytree': 0.9}. Best is trial 8 with value: 0.7050350793962559.\u001b[0m\n",
            "\u001b[32m[I 2021-05-12 11:48:11,849]\u001b[0m Trial 15 finished with value: 0.704980774126167 and parameters: {'max_depth': 25, 'learning_rate': 0.01, 'subsample': 0.8, 'colsample_bytree': 0.4}. Best is trial 15 with value: 0.704980774126167.\u001b[0m\n",
            "\u001b[32m[I 2021-05-12 11:49:26,233]\u001b[0m Trial 16 finished with value: 0.7065822037189596 and parameters: {'max_depth': 22, 'learning_rate': 0.01, 'subsample': 0.5, 'colsample_bytree': 0.5}. Best is trial 15 with value: 0.704980774126167.\u001b[0m\n",
            "\u001b[32m[I 2021-05-12 11:50:35,427]\u001b[0m Trial 17 finished with value: 0.7122202047026481 and parameters: {'max_depth': 24, 'learning_rate': 0.01, 'subsample': 0.3, 'colsample_bytree': 0.3}. Best is trial 15 with value: 0.704980774126167.\u001b[0m\n",
            "\u001b[32m[I 2021-05-12 11:51:53,694]\u001b[0m Trial 18 finished with value: 0.7149350868829456 and parameters: {'max_depth': 24, 'learning_rate': 0.01, 'subsample': 0.6, 'colsample_bytree': 0.8}. Best is trial 15 with value: 0.704980774126167.\u001b[0m\n",
            "\u001b[32m[I 2021-05-12 11:53:00,834]\u001b[0m Trial 19 finished with value: 0.704894669084702 and parameters: {'max_depth': 21, 'learning_rate': 0.01, 'subsample': 0.7, 'colsample_bytree': 0.4}. Best is trial 19 with value: 0.704894669084702.\u001b[0m\n",
            "\u001b[32m[I 2021-05-12 11:54:13,497]\u001b[0m Trial 20 finished with value: 0.7098587242526003 and parameters: {'max_depth': 28, 'learning_rate': 0.01, 'subsample': 0.7, 'colsample_bytree': 0.7}. Best is trial 19 with value: 0.704894669084702.\u001b[0m\n",
            "\u001b[32m[I 2021-05-12 11:55:19,740]\u001b[0m Trial 21 finished with value: 0.704894669084702 and parameters: {'max_depth': 21, 'learning_rate': 0.01, 'subsample': 0.7, 'colsample_bytree': 0.4}. Best is trial 19 with value: 0.704894669084702.\u001b[0m\n"
          ],
          "name": "stderr"
        },
        {
          "output_type": "error",
          "ename": "KeyboardInterrupt",
          "evalue": "ignored",
          "traceback": [
            "\u001b[0;31m---------------------------------------------------------------------------\u001b[0m",
            "\u001b[0;31mKeyboardInterrupt\u001b[0m                         Traceback (most recent call last)",
            "\u001b[0;32m<ipython-input-45-fb6e06ebe42f>\u001b[0m in \u001b[0;36m<module>\u001b[0;34m()\u001b[0m\n\u001b[1;32m      1\u001b[0m \u001b[0mstudy\u001b[0m \u001b[0;34m=\u001b[0m \u001b[0moptuna\u001b[0m\u001b[0;34m.\u001b[0m\u001b[0mcreate_study\u001b[0m\u001b[0;34m(\u001b[0m\u001b[0mdirection\u001b[0m\u001b[0;34m=\u001b[0m\u001b[0;34m'minimize'\u001b[0m\u001b[0;34m)\u001b[0m\u001b[0;34m\u001b[0m\u001b[0;34m\u001b[0m\u001b[0m\n\u001b[0;32m----> 2\u001b[0;31m \u001b[0mstudy\u001b[0m\u001b[0;34m.\u001b[0m\u001b[0moptimize\u001b[0m\u001b[0;34m(\u001b[0m\u001b[0mobjective\u001b[0m\u001b[0;34m,\u001b[0m \u001b[0mn_trials\u001b[0m\u001b[0;34m=\u001b[0m\u001b[0;36m50\u001b[0m\u001b[0;34m)\u001b[0m\u001b[0;34m\u001b[0m\u001b[0;34m\u001b[0m\u001b[0m\n\u001b[0m\u001b[1;32m      3\u001b[0m \u001b[0mstudy\u001b[0m\u001b[0;34m.\u001b[0m\u001b[0mbest_params\u001b[0m\u001b[0;34m\u001b[0m\u001b[0;34m\u001b[0m\u001b[0m\n",
            "\u001b[0;32m/usr/local/lib/python3.7/dist-packages/optuna/study.py\u001b[0m in \u001b[0;36moptimize\u001b[0;34m(self, func, n_trials, timeout, n_jobs, catch, callbacks, gc_after_trial, show_progress_bar)\u001b[0m\n\u001b[1;32m    407\u001b[0m             \u001b[0mcallbacks\u001b[0m\u001b[0;34m=\u001b[0m\u001b[0mcallbacks\u001b[0m\u001b[0;34m,\u001b[0m\u001b[0;34m\u001b[0m\u001b[0;34m\u001b[0m\u001b[0m\n\u001b[1;32m    408\u001b[0m             \u001b[0mgc_after_trial\u001b[0m\u001b[0;34m=\u001b[0m\u001b[0mgc_after_trial\u001b[0m\u001b[0;34m,\u001b[0m\u001b[0;34m\u001b[0m\u001b[0;34m\u001b[0m\u001b[0m\n\u001b[0;32m--> 409\u001b[0;31m             \u001b[0mshow_progress_bar\u001b[0m\u001b[0;34m=\u001b[0m\u001b[0mshow_progress_bar\u001b[0m\u001b[0;34m,\u001b[0m\u001b[0;34m\u001b[0m\u001b[0;34m\u001b[0m\u001b[0m\n\u001b[0m\u001b[1;32m    410\u001b[0m         )\n\u001b[1;32m    411\u001b[0m \u001b[0;34m\u001b[0m\u001b[0m\n",
            "\u001b[0;32m/usr/local/lib/python3.7/dist-packages/optuna/_optimize.py\u001b[0m in \u001b[0;36m_optimize\u001b[0;34m(study, func, n_trials, timeout, n_jobs, catch, callbacks, gc_after_trial, show_progress_bar)\u001b[0m\n\u001b[1;32m     74\u001b[0m                 \u001b[0mreseed_sampler_rng\u001b[0m\u001b[0;34m=\u001b[0m\u001b[0;32mFalse\u001b[0m\u001b[0;34m,\u001b[0m\u001b[0;34m\u001b[0m\u001b[0;34m\u001b[0m\u001b[0m\n\u001b[1;32m     75\u001b[0m                 \u001b[0mtime_start\u001b[0m\u001b[0;34m=\u001b[0m\u001b[0;32mNone\u001b[0m\u001b[0;34m,\u001b[0m\u001b[0;34m\u001b[0m\u001b[0;34m\u001b[0m\u001b[0m\n\u001b[0;32m---> 76\u001b[0;31m                 \u001b[0mprogress_bar\u001b[0m\u001b[0;34m=\u001b[0m\u001b[0mprogress_bar\u001b[0m\u001b[0;34m,\u001b[0m\u001b[0;34m\u001b[0m\u001b[0;34m\u001b[0m\u001b[0m\n\u001b[0m\u001b[1;32m     77\u001b[0m             )\n\u001b[1;32m     78\u001b[0m         \u001b[0;32melse\u001b[0m\u001b[0;34m:\u001b[0m\u001b[0;34m\u001b[0m\u001b[0;34m\u001b[0m\u001b[0m\n",
            "\u001b[0;32m/usr/local/lib/python3.7/dist-packages/optuna/_optimize.py\u001b[0m in \u001b[0;36m_optimize_sequential\u001b[0;34m(study, func, n_trials, timeout, catch, callbacks, gc_after_trial, reseed_sampler_rng, time_start, progress_bar)\u001b[0m\n\u001b[1;32m    161\u001b[0m \u001b[0;34m\u001b[0m\u001b[0m\n\u001b[1;32m    162\u001b[0m         \u001b[0;32mtry\u001b[0m\u001b[0;34m:\u001b[0m\u001b[0;34m\u001b[0m\u001b[0;34m\u001b[0m\u001b[0m\n\u001b[0;32m--> 163\u001b[0;31m             \u001b[0mtrial\u001b[0m \u001b[0;34m=\u001b[0m \u001b[0m_run_trial\u001b[0m\u001b[0;34m(\u001b[0m\u001b[0mstudy\u001b[0m\u001b[0;34m,\u001b[0m \u001b[0mfunc\u001b[0m\u001b[0;34m,\u001b[0m \u001b[0mcatch\u001b[0m\u001b[0;34m)\u001b[0m\u001b[0;34m\u001b[0m\u001b[0;34m\u001b[0m\u001b[0m\n\u001b[0m\u001b[1;32m    164\u001b[0m         \u001b[0;32mexcept\u001b[0m \u001b[0mException\u001b[0m\u001b[0;34m:\u001b[0m\u001b[0;34m\u001b[0m\u001b[0;34m\u001b[0m\u001b[0m\n\u001b[1;32m    165\u001b[0m             \u001b[0;32mraise\u001b[0m\u001b[0;34m\u001b[0m\u001b[0;34m\u001b[0m\u001b[0m\n",
            "\u001b[0;32m/usr/local/lib/python3.7/dist-packages/optuna/_optimize.py\u001b[0m in \u001b[0;36m_run_trial\u001b[0;34m(study, func, catch)\u001b[0m\n\u001b[1;32m    215\u001b[0m \u001b[0;34m\u001b[0m\u001b[0m\n\u001b[1;32m    216\u001b[0m     \u001b[0;32mtry\u001b[0m\u001b[0;34m:\u001b[0m\u001b[0;34m\u001b[0m\u001b[0;34m\u001b[0m\u001b[0m\n\u001b[0;32m--> 217\u001b[0;31m         \u001b[0mvalue_or_values\u001b[0m \u001b[0;34m=\u001b[0m \u001b[0mfunc\u001b[0m\u001b[0;34m(\u001b[0m\u001b[0mtrial\u001b[0m\u001b[0;34m)\u001b[0m\u001b[0;34m\u001b[0m\u001b[0;34m\u001b[0m\u001b[0m\n\u001b[0m\u001b[1;32m    218\u001b[0m     \u001b[0;32mexcept\u001b[0m \u001b[0mexceptions\u001b[0m\u001b[0;34m.\u001b[0m\u001b[0mTrialPruned\u001b[0m \u001b[0;32mas\u001b[0m \u001b[0me\u001b[0m\u001b[0;34m:\u001b[0m\u001b[0;34m\u001b[0m\u001b[0;34m\u001b[0m\u001b[0m\n\u001b[1;32m    219\u001b[0m         \u001b[0;31m# TODO(mamu): Handle multi-objective cases.\u001b[0m\u001b[0;34m\u001b[0m\u001b[0;34m\u001b[0m\u001b[0;34m\u001b[0m\u001b[0m\n",
            "\u001b[0;32m<ipython-input-44-5fd9706cb77d>\u001b[0m in \u001b[0;36mobjective\u001b[0;34m(trial, train, target)\u001b[0m\n\u001b[1;32m     16\u001b[0m   \u001b[0mmodel\u001b[0m\u001b[0;34m=\u001b[0m\u001b[0mXGBClassifier\u001b[0m\u001b[0;34m(\u001b[0m\u001b[0;34m**\u001b[0m\u001b[0mparam\u001b[0m\u001b[0;34m)\u001b[0m\u001b[0;34m\u001b[0m\u001b[0;34m\u001b[0m\u001b[0m\n\u001b[1;32m     17\u001b[0m \u001b[0;34m\u001b[0m\u001b[0m\n\u001b[0;32m---> 18\u001b[0;31m   \u001b[0mmodel\u001b[0m\u001b[0;34m.\u001b[0m\u001b[0mfit\u001b[0m\u001b[0;34m(\u001b[0m\u001b[0mX_train\u001b[0m\u001b[0;34m,\u001b[0m\u001b[0my_train\u001b[0m\u001b[0;34m,\u001b[0m\u001b[0meval_set\u001b[0m\u001b[0;34m=\u001b[0m\u001b[0;34m[\u001b[0m\u001b[0;34m(\u001b[0m\u001b[0mX_test\u001b[0m\u001b[0;34m,\u001b[0m\u001b[0my_test\u001b[0m\u001b[0;34m)\u001b[0m\u001b[0;34m]\u001b[0m\u001b[0;34m,\u001b[0m\u001b[0mearly_stopping_rounds\u001b[0m\u001b[0;34m=\u001b[0m\u001b[0;36m30\u001b[0m\u001b[0;34m,\u001b[0m\u001b[0mverbose\u001b[0m\u001b[0;34m=\u001b[0m\u001b[0;32mFalse\u001b[0m\u001b[0;34m)\u001b[0m\u001b[0;34m\u001b[0m\u001b[0;34m\u001b[0m\u001b[0m\n\u001b[0m\u001b[1;32m     19\u001b[0m \u001b[0;34m\u001b[0m\u001b[0m\n\u001b[1;32m     20\u001b[0m   \u001b[0mpredictions\u001b[0m\u001b[0;34m=\u001b[0m\u001b[0mmodel\u001b[0m\u001b[0;34m.\u001b[0m\u001b[0mpredict_proba\u001b[0m\u001b[0;34m(\u001b[0m\u001b[0mX_test\u001b[0m\u001b[0;34m)\u001b[0m\u001b[0;34m\u001b[0m\u001b[0;34m\u001b[0m\u001b[0m\n",
            "\u001b[0;32m/usr/local/lib/python3.7/dist-packages/xgboost/sklearn.py\u001b[0m in \u001b[0;36mfit\u001b[0;34m(self, X, y, sample_weight, eval_set, eval_metric, early_stopping_rounds, verbose, xgb_model, sample_weight_eval_set, callbacks)\u001b[0m\n\u001b[1;32m    730\u001b[0m                               \u001b[0mevals_result\u001b[0m\u001b[0;34m=\u001b[0m\u001b[0mevals_result\u001b[0m\u001b[0;34m,\u001b[0m \u001b[0mobj\u001b[0m\u001b[0;34m=\u001b[0m\u001b[0mobj\u001b[0m\u001b[0;34m,\u001b[0m \u001b[0mfeval\u001b[0m\u001b[0;34m=\u001b[0m\u001b[0mfeval\u001b[0m\u001b[0;34m,\u001b[0m\u001b[0;34m\u001b[0m\u001b[0;34m\u001b[0m\u001b[0m\n\u001b[1;32m    731\u001b[0m                               \u001b[0mverbose_eval\u001b[0m\u001b[0;34m=\u001b[0m\u001b[0mverbose\u001b[0m\u001b[0;34m,\u001b[0m \u001b[0mxgb_model\u001b[0m\u001b[0;34m=\u001b[0m\u001b[0mxgb_model\u001b[0m\u001b[0;34m,\u001b[0m\u001b[0;34m\u001b[0m\u001b[0;34m\u001b[0m\u001b[0m\n\u001b[0;32m--> 732\u001b[0;31m                               callbacks=callbacks)\n\u001b[0m\u001b[1;32m    733\u001b[0m \u001b[0;34m\u001b[0m\u001b[0m\n\u001b[1;32m    734\u001b[0m         \u001b[0mself\u001b[0m\u001b[0;34m.\u001b[0m\u001b[0mobjective\u001b[0m \u001b[0;34m=\u001b[0m \u001b[0mxgb_options\u001b[0m\u001b[0;34m[\u001b[0m\u001b[0;34m\"objective\"\u001b[0m\u001b[0;34m]\u001b[0m\u001b[0;34m\u001b[0m\u001b[0;34m\u001b[0m\u001b[0m\n",
            "\u001b[0;32m/usr/local/lib/python3.7/dist-packages/xgboost/training.py\u001b[0m in \u001b[0;36mtrain\u001b[0;34m(params, dtrain, num_boost_round, evals, obj, feval, maximize, early_stopping_rounds, evals_result, verbose_eval, xgb_model, callbacks, learning_rates)\u001b[0m\n\u001b[1;32m    214\u001b[0m                            \u001b[0mevals\u001b[0m\u001b[0;34m=\u001b[0m\u001b[0mevals\u001b[0m\u001b[0;34m,\u001b[0m\u001b[0;34m\u001b[0m\u001b[0;34m\u001b[0m\u001b[0m\n\u001b[1;32m    215\u001b[0m                            \u001b[0mobj\u001b[0m\u001b[0;34m=\u001b[0m\u001b[0mobj\u001b[0m\u001b[0;34m,\u001b[0m \u001b[0mfeval\u001b[0m\u001b[0;34m=\u001b[0m\u001b[0mfeval\u001b[0m\u001b[0;34m,\u001b[0m\u001b[0;34m\u001b[0m\u001b[0;34m\u001b[0m\u001b[0m\n\u001b[0;32m--> 216\u001b[0;31m                            xgb_model=xgb_model, callbacks=callbacks)\n\u001b[0m\u001b[1;32m    217\u001b[0m \u001b[0;34m\u001b[0m\u001b[0m\n\u001b[1;32m    218\u001b[0m \u001b[0;34m\u001b[0m\u001b[0m\n",
            "\u001b[0;32m/usr/local/lib/python3.7/dist-packages/xgboost/training.py\u001b[0m in \u001b[0;36m_train_internal\u001b[0;34m(params, dtrain, num_boost_round, evals, obj, feval, xgb_model, callbacks)\u001b[0m\n\u001b[1;32m     72\u001b[0m         \u001b[0;31m# Skip the first update if it is a recovery step.\u001b[0m\u001b[0;34m\u001b[0m\u001b[0;34m\u001b[0m\u001b[0;34m\u001b[0m\u001b[0m\n\u001b[1;32m     73\u001b[0m         \u001b[0;32mif\u001b[0m \u001b[0mversion\u001b[0m \u001b[0;34m%\u001b[0m \u001b[0;36m2\u001b[0m \u001b[0;34m==\u001b[0m \u001b[0;36m0\u001b[0m\u001b[0;34m:\u001b[0m\u001b[0;34m\u001b[0m\u001b[0;34m\u001b[0m\u001b[0m\n\u001b[0;32m---> 74\u001b[0;31m             \u001b[0mbst\u001b[0m\u001b[0;34m.\u001b[0m\u001b[0mupdate\u001b[0m\u001b[0;34m(\u001b[0m\u001b[0mdtrain\u001b[0m\u001b[0;34m,\u001b[0m \u001b[0mi\u001b[0m\u001b[0;34m,\u001b[0m \u001b[0mobj\u001b[0m\u001b[0;34m)\u001b[0m\u001b[0;34m\u001b[0m\u001b[0;34m\u001b[0m\u001b[0m\n\u001b[0m\u001b[1;32m     75\u001b[0m             \u001b[0mbst\u001b[0m\u001b[0;34m.\u001b[0m\u001b[0msave_rabit_checkpoint\u001b[0m\u001b[0;34m(\u001b[0m\u001b[0;34m)\u001b[0m\u001b[0;34m\u001b[0m\u001b[0;34m\u001b[0m\u001b[0m\n\u001b[1;32m     76\u001b[0m             \u001b[0mversion\u001b[0m \u001b[0;34m+=\u001b[0m \u001b[0;36m1\u001b[0m\u001b[0;34m\u001b[0m\u001b[0;34m\u001b[0m\u001b[0m\n",
            "\u001b[0;32m/usr/local/lib/python3.7/dist-packages/xgboost/core.py\u001b[0m in \u001b[0;36mupdate\u001b[0;34m(self, dtrain, iteration, fobj)\u001b[0m\n\u001b[1;32m   1107\u001b[0m         \u001b[0;32mif\u001b[0m \u001b[0mfobj\u001b[0m \u001b[0;32mis\u001b[0m \u001b[0;32mNone\u001b[0m\u001b[0;34m:\u001b[0m\u001b[0;34m\u001b[0m\u001b[0;34m\u001b[0m\u001b[0m\n\u001b[1;32m   1108\u001b[0m             _check_call(_LIB.XGBoosterUpdateOneIter(self.handle, ctypes.c_int(iteration),\n\u001b[0;32m-> 1109\u001b[0;31m                                                     dtrain.handle))\n\u001b[0m\u001b[1;32m   1110\u001b[0m         \u001b[0;32melse\u001b[0m\u001b[0;34m:\u001b[0m\u001b[0;34m\u001b[0m\u001b[0;34m\u001b[0m\u001b[0m\n\u001b[1;32m   1111\u001b[0m             \u001b[0mpred\u001b[0m \u001b[0;34m=\u001b[0m \u001b[0mself\u001b[0m\u001b[0;34m.\u001b[0m\u001b[0mpredict\u001b[0m\u001b[0;34m(\u001b[0m\u001b[0mdtrain\u001b[0m\u001b[0;34m)\u001b[0m\u001b[0;34m\u001b[0m\u001b[0;34m\u001b[0m\u001b[0m\n",
            "\u001b[0;31mKeyboardInterrupt\u001b[0m: "
          ]
        }
      ]
    },
    {
      "cell_type": "code",
      "metadata": {
        "id": "WafeYSMuGMiu"
      },
      "source": [
        "from sklearn.model_selection import StratifiedKFold\n",
        "skf = StratifiedKFold(n_splits=10, shuffle=True, random_state=2)\n",
        "folds=[]\n",
        "for train_idx, valid_idx in skf.split(train, train['credit']):\n",
        "    folds.append((train_idx, valid_idx))\n"
      ],
      "execution_count": null,
      "outputs": []
    },
    {
      "cell_type": "code",
      "metadata": {
        "colab": {
          "base_uri": "https://localhost:8080/"
        },
        "id": "vLCKxjGN5H5X",
        "outputId": "89c611dd-63aa-4394-f3a9-d59796755d0c"
      },
      "source": [
        "import random\n",
        "random.seed(2)\n",
        "lgb_models={}\n",
        "for fold in range(10):\n",
        "    print(f'===================================={fold+1}============================================')\n",
        "    train_idx, valid_idx = folds[fold]\n",
        "    X_train, X_valid, y_train, y_valid = train.drop(['credit'],axis=1).iloc[train_idx].values, train.drop(['credit'],axis=1).iloc[valid_idx].values,\\\n",
        "                                         train['credit'][train_idx].values, train['credit'][valid_idx].values \n",
        "    lgb = XGBClassifier(n_estimators=1000,\n",
        "                        objective='multi:softprob',\n",
        "                        eval_metric='mlogloss',\n",
        "                        learning_rate=0.01,\n",
        "                        max_depth=27,\n",
        "                        subsample=0.7,\n",
        "                        colsample_bytree=0.5\n",
        "                        )\n",
        "    lgb.fit(X_train, y_train, \n",
        "            eval_set=[(X_train, y_train), (X_valid, y_valid)], \n",
        "            early_stopping_rounds=100,\n",
        "           verbose=100)\n",
        "    lgb_models[fold]=lgb\n",
        "    print(f'================================================================================\\n\\n')"
      ],
      "execution_count": null,
      "outputs": [
        {
          "output_type": "stream",
          "text": [
            "====================================1============================================\n",
            "[0]\tvalidation_0-mlogloss:1.09235\tvalidation_1-mlogloss:1.09392\n",
            "Multiple eval metrics have been passed: 'validation_1-mlogloss' will be used for early stopping.\n",
            "\n",
            "Will train until validation_1-mlogloss hasn't improved in 100 rounds.\n",
            "[100]\tvalidation_0-mlogloss:0.733515\tvalidation_1-mlogloss:0.843181\n",
            "[200]\tvalidation_0-mlogloss:0.570403\tvalidation_1-mlogloss:0.760858\n",
            "[300]\tvalidation_0-mlogloss:0.475532\tvalidation_1-mlogloss:0.730639\n",
            "[400]\tvalidation_0-mlogloss:0.413886\tvalidation_1-mlogloss:0.720614\n",
            "[500]\tvalidation_0-mlogloss:0.369765\tvalidation_1-mlogloss:0.717908\n",
            "Stopping. Best iteration:\n",
            "[499]\tvalidation_0-mlogloss:0.369903\tvalidation_1-mlogloss:0.717898\n",
            "\n",
            "================================================================================\n",
            "\n",
            "\n",
            "====================================2============================================\n",
            "[0]\tvalidation_0-mlogloss:1.0922\tvalidation_1-mlogloss:1.09384\n",
            "Multiple eval metrics have been passed: 'validation_1-mlogloss' will be used for early stopping.\n",
            "\n",
            "Will train until validation_1-mlogloss hasn't improved in 100 rounds.\n",
            "[100]\tvalidation_0-mlogloss:0.733776\tvalidation_1-mlogloss:0.838998\n",
            "[200]\tvalidation_0-mlogloss:0.572342\tvalidation_1-mlogloss:0.753791\n",
            "[300]\tvalidation_0-mlogloss:0.47894\tvalidation_1-mlogloss:0.721075\n",
            "[400]\tvalidation_0-mlogloss:0.418529\tvalidation_1-mlogloss:0.707866\n",
            "[500]\tvalidation_0-mlogloss:0.37281\tvalidation_1-mlogloss:0.702626\n",
            "[600]\tvalidation_0-mlogloss:0.33578\tvalidation_1-mlogloss:0.702298\n",
            "Stopping. Best iteration:\n",
            "[555]\tvalidation_0-mlogloss:0.351795\tvalidation_1-mlogloss:0.701734\n",
            "\n",
            "================================================================================\n",
            "\n",
            "\n",
            "====================================3============================================\n",
            "[0]\tvalidation_0-mlogloss:1.09214\tvalidation_1-mlogloss:1.09379\n",
            "Multiple eval metrics have been passed: 'validation_1-mlogloss' will be used for early stopping.\n",
            "\n",
            "Will train until validation_1-mlogloss hasn't improved in 100 rounds.\n",
            "[100]\tvalidation_0-mlogloss:0.73622\tvalidation_1-mlogloss:0.835738\n",
            "[200]\tvalidation_0-mlogloss:0.575322\tvalidation_1-mlogloss:0.748687\n",
            "[300]\tvalidation_0-mlogloss:0.48181\tvalidation_1-mlogloss:0.714959\n",
            "[400]\tvalidation_0-mlogloss:0.420427\tvalidation_1-mlogloss:0.702025\n",
            "[500]\tvalidation_0-mlogloss:0.375523\tvalidation_1-mlogloss:0.697112\n",
            "[600]\tvalidation_0-mlogloss:0.338708\tvalidation_1-mlogloss:0.697546\n",
            "Stopping. Best iteration:\n",
            "[557]\tvalidation_0-mlogloss:0.354332\tvalidation_1-mlogloss:0.69648\n",
            "\n",
            "================================================================================\n",
            "\n",
            "\n",
            "====================================4============================================\n",
            "[0]\tvalidation_0-mlogloss:1.0922\tvalidation_1-mlogloss:1.09358\n",
            "Multiple eval metrics have been passed: 'validation_1-mlogloss' will be used for early stopping.\n",
            "\n",
            "Will train until validation_1-mlogloss hasn't improved in 100 rounds.\n",
            "[100]\tvalidation_0-mlogloss:0.737292\tvalidation_1-mlogloss:0.829299\n",
            "[200]\tvalidation_0-mlogloss:0.577674\tvalidation_1-mlogloss:0.737707\n",
            "[300]\tvalidation_0-mlogloss:0.484444\tvalidation_1-mlogloss:0.70032\n",
            "[400]\tvalidation_0-mlogloss:0.422595\tvalidation_1-mlogloss:0.683724\n",
            "[500]\tvalidation_0-mlogloss:0.377267\tvalidation_1-mlogloss:0.676287\n",
            "[600]\tvalidation_0-mlogloss:0.339903\tvalidation_1-mlogloss:0.673399\n",
            "[700]\tvalidation_0-mlogloss:0.308472\tvalidation_1-mlogloss:0.673431\n",
            "Stopping. Best iteration:\n",
            "[639]\tvalidation_0-mlogloss:0.32704\tvalidation_1-mlogloss:0.673086\n",
            "\n",
            "================================================================================\n",
            "\n",
            "\n",
            "====================================5============================================\n",
            "[0]\tvalidation_0-mlogloss:1.09219\tvalidation_1-mlogloss:1.09356\n",
            "Multiple eval metrics have been passed: 'validation_1-mlogloss' will be used for early stopping.\n",
            "\n",
            "Will train until validation_1-mlogloss hasn't improved in 100 rounds.\n",
            "[100]\tvalidation_0-mlogloss:0.736948\tvalidation_1-mlogloss:0.834511\n",
            "[200]\tvalidation_0-mlogloss:0.575885\tvalidation_1-mlogloss:0.746023\n",
            "[300]\tvalidation_0-mlogloss:0.482661\tvalidation_1-mlogloss:0.710986\n",
            "[400]\tvalidation_0-mlogloss:0.421969\tvalidation_1-mlogloss:0.696714\n",
            "[500]\tvalidation_0-mlogloss:0.377146\tvalidation_1-mlogloss:0.691001\n",
            "[600]\tvalidation_0-mlogloss:0.340807\tvalidation_1-mlogloss:0.690497\n",
            "Stopping. Best iteration:\n",
            "[557]\tvalidation_0-mlogloss:0.356189\tvalidation_1-mlogloss:0.690102\n",
            "\n",
            "================================================================================\n",
            "\n",
            "\n",
            "====================================6============================================\n",
            "[0]\tvalidation_0-mlogloss:1.0923\tvalidation_1-mlogloss:1.09382\n",
            "Multiple eval metrics have been passed: 'validation_1-mlogloss' will be used for early stopping.\n",
            "\n",
            "Will train until validation_1-mlogloss hasn't improved in 100 rounds.\n",
            "[100]\tvalidation_0-mlogloss:0.734392\tvalidation_1-mlogloss:0.836261\n",
            "[200]\tvalidation_0-mlogloss:0.574512\tvalidation_1-mlogloss:0.75075\n",
            "[300]\tvalidation_0-mlogloss:0.481527\tvalidation_1-mlogloss:0.717254\n",
            "[400]\tvalidation_0-mlogloss:0.419819\tvalidation_1-mlogloss:0.703281\n",
            "[500]\tvalidation_0-mlogloss:0.373849\tvalidation_1-mlogloss:0.69812\n",
            "[600]\tvalidation_0-mlogloss:0.337352\tvalidation_1-mlogloss:0.697553\n",
            "Stopping. Best iteration:\n",
            "[538]\tvalidation_0-mlogloss:0.359584\tvalidation_1-mlogloss:0.697474\n",
            "\n",
            "================================================================================\n",
            "\n",
            "\n",
            "====================================7============================================\n",
            "[0]\tvalidation_0-mlogloss:1.09225\tvalidation_1-mlogloss:1.09373\n",
            "Multiple eval metrics have been passed: 'validation_1-mlogloss' will be used for early stopping.\n",
            "\n",
            "Will train until validation_1-mlogloss hasn't improved in 100 rounds.\n",
            "[100]\tvalidation_0-mlogloss:0.735629\tvalidation_1-mlogloss:0.83696\n",
            "[200]\tvalidation_0-mlogloss:0.573798\tvalidation_1-mlogloss:0.751066\n",
            "[300]\tvalidation_0-mlogloss:0.480092\tvalidation_1-mlogloss:0.717933\n",
            "[400]\tvalidation_0-mlogloss:0.418506\tvalidation_1-mlogloss:0.705009\n",
            "[500]\tvalidation_0-mlogloss:0.373169\tvalidation_1-mlogloss:0.701478\n",
            "[600]\tvalidation_0-mlogloss:0.335448\tvalidation_1-mlogloss:0.70231\n",
            "Stopping. Best iteration:\n",
            "[537]\tvalidation_0-mlogloss:0.358485\tvalidation_1-mlogloss:0.701347\n",
            "\n",
            "================================================================================\n",
            "\n",
            "\n",
            "====================================8============================================\n",
            "[0]\tvalidation_0-mlogloss:1.09242\tvalidation_1-mlogloss:1.09374\n",
            "Multiple eval metrics have been passed: 'validation_1-mlogloss' will be used for early stopping.\n",
            "\n",
            "Will train until validation_1-mlogloss hasn't improved in 100 rounds.\n",
            "[100]\tvalidation_0-mlogloss:0.74284\tvalidation_1-mlogloss:0.837623\n",
            "[200]\tvalidation_0-mlogloss:0.580525\tvalidation_1-mlogloss:0.751121\n",
            "[300]\tvalidation_0-mlogloss:0.483087\tvalidation_1-mlogloss:0.716426\n",
            "[400]\tvalidation_0-mlogloss:0.419004\tvalidation_1-mlogloss:0.702517\n",
            "[500]\tvalidation_0-mlogloss:0.372208\tvalidation_1-mlogloss:0.698823\n",
            "[600]\tvalidation_0-mlogloss:0.334478\tvalidation_1-mlogloss:0.699422\n",
            "Stopping. Best iteration:\n",
            "[520]\tvalidation_0-mlogloss:0.364706\tvalidation_1-mlogloss:0.698631\n",
            "\n",
            "================================================================================\n",
            "\n",
            "\n",
            "====================================9============================================\n",
            "[0]\tvalidation_0-mlogloss:1.09228\tvalidation_1-mlogloss:1.09384\n",
            "Multiple eval metrics have been passed: 'validation_1-mlogloss' will be used for early stopping.\n",
            "\n",
            "Will train until validation_1-mlogloss hasn't improved in 100 rounds.\n",
            "[100]\tvalidation_0-mlogloss:0.740999\tvalidation_1-mlogloss:0.838824\n",
            "[200]\tvalidation_0-mlogloss:0.577518\tvalidation_1-mlogloss:0.752261\n",
            "[300]\tvalidation_0-mlogloss:0.479221\tvalidation_1-mlogloss:0.718066\n",
            "[400]\tvalidation_0-mlogloss:0.416319\tvalidation_1-mlogloss:0.705421\n",
            "[500]\tvalidation_0-mlogloss:0.370746\tvalidation_1-mlogloss:0.701823\n",
            "[600]\tvalidation_0-mlogloss:0.33332\tvalidation_1-mlogloss:0.702892\n",
            "Stopping. Best iteration:\n",
            "[505]\tvalidation_0-mlogloss:0.368179\tvalidation_1-mlogloss:0.7016\n",
            "\n",
            "================================================================================\n",
            "\n",
            "\n",
            "====================================10============================================\n",
            "[0]\tvalidation_0-mlogloss:1.09243\tvalidation_1-mlogloss:1.09375\n",
            "Multiple eval metrics have been passed: 'validation_1-mlogloss' will be used for early stopping.\n",
            "\n",
            "Will train until validation_1-mlogloss hasn't improved in 100 rounds.\n",
            "[100]\tvalidation_0-mlogloss:0.741279\tvalidation_1-mlogloss:0.832914\n",
            "[200]\tvalidation_0-mlogloss:0.578252\tvalidation_1-mlogloss:0.741817\n",
            "[300]\tvalidation_0-mlogloss:0.479908\tvalidation_1-mlogloss:0.703136\n",
            "[400]\tvalidation_0-mlogloss:0.416956\tvalidation_1-mlogloss:0.686896\n",
            "[500]\tvalidation_0-mlogloss:0.370752\tvalidation_1-mlogloss:0.680425\n",
            "[600]\tvalidation_0-mlogloss:0.333073\tvalidation_1-mlogloss:0.679285\n",
            "Stopping. Best iteration:\n",
            "[581]\tvalidation_0-mlogloss:0.339696\tvalidation_1-mlogloss:0.679027\n",
            "\n",
            "================================================================================\n",
            "\n",
            "\n"
          ],
          "name": "stdout"
        }
      ]
    },
    {
      "cell_type": "code",
      "metadata": {
        "id": "sGMijoaaGMDc"
      },
      "source": [
        "test.rename(columns = {'reality' : 'f0','income_total' : 'f1', 'income_type' : 'f2', 'DAYS_BIRTH' : 'f3', 'DAYS_EMPLOYED' : 'f4', 'occyp_type' : 'f5', 'begin_month' : 'f6'}, inplace = True)"
      ],
      "execution_count": null,
      "outputs": []
    },
    {
      "cell_type": "code",
      "metadata": {
        "colab": {
          "base_uri": "https://localhost:8080/",
          "height": 415
        },
        "id": "o39Vb8BnGlWC",
        "outputId": "74b3aae6-f794-49a7-eda8-c48ebd94522c"
      },
      "source": [
        "test"
      ],
      "execution_count": null,
      "outputs": [
        {
          "output_type": "execute_result",
          "data": {
            "text/html": [
              "<div>\n",
              "<style scoped>\n",
              "    .dataframe tbody tr th:only-of-type {\n",
              "        vertical-align: middle;\n",
              "    }\n",
              "\n",
              "    .dataframe tbody tr th {\n",
              "        vertical-align: top;\n",
              "    }\n",
              "\n",
              "    .dataframe thead th {\n",
              "        text-align: right;\n",
              "    }\n",
              "</style>\n",
              "<table border=\"1\" class=\"dataframe\">\n",
              "  <thead>\n",
              "    <tr style=\"text-align: right;\">\n",
              "      <th></th>\n",
              "      <th>f0</th>\n",
              "      <th>f1</th>\n",
              "      <th>f2</th>\n",
              "      <th>f3</th>\n",
              "      <th>f4</th>\n",
              "      <th>f5</th>\n",
              "      <th>f6</th>\n",
              "    </tr>\n",
              "  </thead>\n",
              "  <tbody>\n",
              "    <tr>\n",
              "      <th>0</th>\n",
              "      <td>0</td>\n",
              "      <td>-0.734287</td>\n",
              "      <td>1</td>\n",
              "      <td>-1.435662</td>\n",
              "      <td>2.227162</td>\n",
              "      <td>4</td>\n",
              "      <td>-2.045789</td>\n",
              "    </tr>\n",
              "    <tr>\n",
              "      <th>1</th>\n",
              "      <td>1</td>\n",
              "      <td>-0.513431</td>\n",
              "      <td>2</td>\n",
              "      <td>-0.715444</td>\n",
              "      <td>-0.492750</td>\n",
              "      <td>0</td>\n",
              "      <td>-0.596447</td>\n",
              "    </tr>\n",
              "    <tr>\n",
              "      <th>2</th>\n",
              "      <td>1</td>\n",
              "      <td>-1.157623</td>\n",
              "      <td>4</td>\n",
              "      <td>0.016912</td>\n",
              "      <td>-0.431254</td>\n",
              "      <td>2</td>\n",
              "      <td>-0.838004</td>\n",
              "    </tr>\n",
              "    <tr>\n",
              "      <th>3</th>\n",
              "      <td>0</td>\n",
              "      <td>-0.734287</td>\n",
              "      <td>0</td>\n",
              "      <td>-0.788275</td>\n",
              "      <td>-0.448087</td>\n",
              "      <td>1</td>\n",
              "      <td>-0.898393</td>\n",
              "    </tr>\n",
              "    <tr>\n",
              "      <th>4</th>\n",
              "      <td>1</td>\n",
              "      <td>0.369992</td>\n",
              "      <td>2</td>\n",
              "      <td>-0.443637</td>\n",
              "      <td>-0.497944</td>\n",
              "      <td>3</td>\n",
              "      <td>1.094452</td>\n",
              "    </tr>\n",
              "    <tr>\n",
              "      <th>...</th>\n",
              "      <td>...</td>\n",
              "      <td>...</td>\n",
              "      <td>...</td>\n",
              "      <td>...</td>\n",
              "      <td>...</td>\n",
              "      <td>...</td>\n",
              "      <td>...</td>\n",
              "    </tr>\n",
              "    <tr>\n",
              "      <th>9995</th>\n",
              "      <td>1</td>\n",
              "      <td>0.149136</td>\n",
              "      <td>4</td>\n",
              "      <td>-0.627143</td>\n",
              "      <td>-0.469204</td>\n",
              "      <td>6</td>\n",
              "      <td>0.430170</td>\n",
              "    </tr>\n",
              "    <tr>\n",
              "      <th>9996</th>\n",
              "      <td>1</td>\n",
              "      <td>0.149136</td>\n",
              "      <td>4</td>\n",
              "      <td>1.207198</td>\n",
              "      <td>-0.439241</td>\n",
              "      <td>2</td>\n",
              "      <td>-0.475668</td>\n",
              "    </tr>\n",
              "    <tr>\n",
              "      <th>9997</th>\n",
              "      <td>1</td>\n",
              "      <td>1.032559</td>\n",
              "      <td>4</td>\n",
              "      <td>-1.203840</td>\n",
              "      <td>-0.531645</td>\n",
              "      <td>6</td>\n",
              "      <td>-1.743843</td>\n",
              "    </tr>\n",
              "    <tr>\n",
              "      <th>9998</th>\n",
              "      <td>0</td>\n",
              "      <td>-0.071719</td>\n",
              "      <td>0</td>\n",
              "      <td>-0.138747</td>\n",
              "      <td>-0.437568</td>\n",
              "      <td>7</td>\n",
              "      <td>-0.415279</td>\n",
              "    </tr>\n",
              "    <tr>\n",
              "      <th>9999</th>\n",
              "      <td>1</td>\n",
              "      <td>0.811704</td>\n",
              "      <td>4</td>\n",
              "      <td>1.619431</td>\n",
              "      <td>-0.431036</td>\n",
              "      <td>2</td>\n",
              "      <td>0.913284</td>\n",
              "    </tr>\n",
              "  </tbody>\n",
              "</table>\n",
              "<p>10000 rows × 7 columns</p>\n",
              "</div>"
            ],
            "text/plain": [
              "      f0        f1  f2        f3        f4  f5        f6\n",
              "0      0 -0.734287   1 -1.435662  2.227162   4 -2.045789\n",
              "1      1 -0.513431   2 -0.715444 -0.492750   0 -0.596447\n",
              "2      1 -1.157623   4  0.016912 -0.431254   2 -0.838004\n",
              "3      0 -0.734287   0 -0.788275 -0.448087   1 -0.898393\n",
              "4      1  0.369992   2 -0.443637 -0.497944   3  1.094452\n",
              "...   ..       ...  ..       ...       ...  ..       ...\n",
              "9995   1  0.149136   4 -0.627143 -0.469204   6  0.430170\n",
              "9996   1  0.149136   4  1.207198 -0.439241   2 -0.475668\n",
              "9997   1  1.032559   4 -1.203840 -0.531645   6 -1.743843\n",
              "9998   0 -0.071719   0 -0.138747 -0.437568   7 -0.415279\n",
              "9999   1  0.811704   4  1.619431 -0.431036   2  0.913284\n",
              "\n",
              "[10000 rows x 7 columns]"
            ]
          },
          "metadata": {
            "tags": []
          },
          "execution_count": 49
        }
      ]
    },
    {
      "cell_type": "code",
      "metadata": {
        "id": "Lcn2-Tfi6Q9Q"
      },
      "source": [
        "submit.iloc[:,1:]=0\n",
        "for fold in range(10):\n",
        "    submit.iloc[:,1:] += lgb_models[fold].predict_proba(test)/10"
      ],
      "execution_count": null,
      "outputs": []
    },
    {
      "cell_type": "code",
      "metadata": {
        "id": "rYB0qmk56s-g"
      },
      "source": [
        "submit.to_csv('xgb_v6_occyptype_specialist_standardscaler.csv', index=False)"
      ],
      "execution_count": null,
      "outputs": []
    },
    {
      "cell_type": "code",
      "metadata": {
        "id": "r3nHRniD6137"
      },
      "source": [
        ""
      ],
      "execution_count": null,
      "outputs": []
    }
  ]
}