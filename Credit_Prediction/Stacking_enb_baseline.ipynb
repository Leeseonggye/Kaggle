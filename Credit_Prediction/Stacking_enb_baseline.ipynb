{
  "nbformat": 4,
  "nbformat_minor": 0,
  "metadata": {
    "colab": {
      "name": "Stacking_enb_baseline.ipynb",
      "provenance": []
    },
    "kernelspec": {
      "name": "python3",
      "display_name": "Python 3"
    },
    "language_info": {
      "name": "python"
    }
  },
  "cells": [
    {
      "cell_type": "markdown",
      "metadata": {
        "id": "kqnKib0mcC8F"
      },
      "source": [
        ""
      ]
    },
    {
      "cell_type": "code",
      "metadata": {
        "id": "W8dTOxPCb_A2"
      },
      "source": [
        "%reload_ext autoreload\n",
        "%autoreload 2"
      ],
      "execution_count": 1,
      "outputs": []
    },
    {
      "cell_type": "code",
      "metadata": {
        "colab": {
          "base_uri": "https://localhost:8080/"
        },
        "id": "yPKrQmZ_b_cy",
        "outputId": "63622ada-63f8-4079-a771-3ed0ceabba51"
      },
      "source": [
        "import lightgbm as lgb\n",
        "import numpy as np\n",
        "import pandas as pd\n",
        "from pprint import pprint\n",
        "from sklearn.metrics import log_loss\n",
        "from sklearn.model_selection import StratifiedKFold\n",
        "from sklearn.preprocessing import StandardScaler\n",
        "from sklearn.metrics import roc_auc_score, confusion_matrix\n",
        "import warnings\n",
        "!pip install kaggler\n",
        "from kaggler.preprocessing import LabelEncoder\n",
        "from kaggler.model import AutoLGB"
      ],
      "execution_count": 2,
      "outputs": [
        {
          "output_type": "stream",
          "text": [
            "Collecting kaggler\n",
            "\u001b[?25l  Downloading https://files.pythonhosted.org/packages/84/78/c3d9bb918827037a81429c0f19d0481e516311282d04aff89be21e270eeb/Kaggler-0.9.6.tar.gz (821kB)\n",
            "\u001b[K     |████████████████████████████████| 829kB 7.7MB/s \n",
            "\u001b[?25hRequirement already satisfied: tensorflow in /usr/local/lib/python3.7/dist-packages (from kaggler) (2.4.1)\n",
            "Requirement already satisfied: cython in /usr/local/lib/python3.7/dist-packages (from kaggler) (0.29.23)\n",
            "Requirement already satisfied: hyperopt in /usr/local/lib/python3.7/dist-packages (from kaggler) (0.1.2)\n",
            "Requirement already satisfied: lightgbm in /usr/local/lib/python3.7/dist-packages (from kaggler) (2.2.3)\n",
            "Collecting ml-metrics\n",
            "  Downloading https://files.pythonhosted.org/packages/c1/e7/c31a2dd37045a0c904bee31c2dbed903d4f125a6ce980b91bae0c961abb8/ml_metrics-0.1.4.tar.gz\n",
            "Requirement already satisfied: statsmodels in /usr/local/lib/python3.7/dist-packages (from kaggler) (0.10.2)\n",
            "Requirement already satisfied: matplotlib in /usr/local/lib/python3.7/dist-packages (from kaggler) (3.2.2)\n",
            "Requirement already satisfied: kaggle in /usr/local/lib/python3.7/dist-packages (from kaggler) (1.5.12)\n",
            "Requirement already satisfied: xgboost in /usr/local/lib/python3.7/dist-packages (from kaggler) (0.90)\n",
            "Requirement already satisfied: google-pasta~=0.2 in /usr/local/lib/python3.7/dist-packages (from tensorflow->kaggler) (0.2.0)\n",
            "Requirement already satisfied: opt-einsum~=3.3.0 in /usr/local/lib/python3.7/dist-packages (from tensorflow->kaggler) (3.3.0)\n",
            "Requirement already satisfied: absl-py~=0.10 in /usr/local/lib/python3.7/dist-packages (from tensorflow->kaggler) (0.12.0)\n",
            "Requirement already satisfied: typing-extensions~=3.7.4 in /usr/local/lib/python3.7/dist-packages (from tensorflow->kaggler) (3.7.4.3)\n",
            "Requirement already satisfied: h5py~=2.10.0 in /usr/local/lib/python3.7/dist-packages (from tensorflow->kaggler) (2.10.0)\n",
            "Requirement already satisfied: numpy~=1.19.2 in /usr/local/lib/python3.7/dist-packages (from tensorflow->kaggler) (1.19.5)\n",
            "Requirement already satisfied: termcolor~=1.1.0 in /usr/local/lib/python3.7/dist-packages (from tensorflow->kaggler) (1.1.0)\n",
            "Requirement already satisfied: six~=1.15.0 in /usr/local/lib/python3.7/dist-packages (from tensorflow->kaggler) (1.15.0)\n",
            "Requirement already satisfied: protobuf>=3.9.2 in /usr/local/lib/python3.7/dist-packages (from tensorflow->kaggler) (3.12.4)\n",
            "Requirement already satisfied: wheel~=0.35 in /usr/local/lib/python3.7/dist-packages (from tensorflow->kaggler) (0.36.2)\n",
            "Requirement already satisfied: flatbuffers~=1.12.0 in /usr/local/lib/python3.7/dist-packages (from tensorflow->kaggler) (1.12)\n",
            "Requirement already satisfied: keras-preprocessing~=1.1.2 in /usr/local/lib/python3.7/dist-packages (from tensorflow->kaggler) (1.1.2)\n",
            "Requirement already satisfied: wrapt~=1.12.1 in /usr/local/lib/python3.7/dist-packages (from tensorflow->kaggler) (1.12.1)\n",
            "Requirement already satisfied: gast==0.3.3 in /usr/local/lib/python3.7/dist-packages (from tensorflow->kaggler) (0.3.3)\n",
            "Requirement already satisfied: tensorboard~=2.4 in /usr/local/lib/python3.7/dist-packages (from tensorflow->kaggler) (2.4.1)\n",
            "Requirement already satisfied: tensorflow-estimator<2.5.0,>=2.4.0 in /usr/local/lib/python3.7/dist-packages (from tensorflow->kaggler) (2.4.0)\n",
            "Requirement already satisfied: grpcio~=1.32.0 in /usr/local/lib/python3.7/dist-packages (from tensorflow->kaggler) (1.32.0)\n",
            "Requirement already satisfied: astunparse~=1.6.3 in /usr/local/lib/python3.7/dist-packages (from tensorflow->kaggler) (1.6.3)\n",
            "Requirement already satisfied: future in /usr/local/lib/python3.7/dist-packages (from hyperopt->kaggler) (0.16.0)\n",
            "Requirement already satisfied: pymongo in /usr/local/lib/python3.7/dist-packages (from hyperopt->kaggler) (3.11.4)\n",
            "Requirement already satisfied: scipy in /usr/local/lib/python3.7/dist-packages (from hyperopt->kaggler) (1.4.1)\n",
            "Requirement already satisfied: tqdm in /usr/local/lib/python3.7/dist-packages (from hyperopt->kaggler) (4.41.1)\n",
            "Requirement already satisfied: networkx in /usr/local/lib/python3.7/dist-packages (from hyperopt->kaggler) (2.5.1)\n",
            "Requirement already satisfied: scikit-learn in /usr/local/lib/python3.7/dist-packages (from lightgbm->kaggler) (0.22.2.post1)\n",
            "Requirement already satisfied: pandas in /usr/local/lib/python3.7/dist-packages (from ml-metrics->kaggler) (1.1.5)\n",
            "Requirement already satisfied: patsy>=0.4.0 in /usr/local/lib/python3.7/dist-packages (from statsmodels->kaggler) (0.5.1)\n",
            "Requirement already satisfied: pyparsing!=2.0.4,!=2.1.2,!=2.1.6,>=2.0.1 in /usr/local/lib/python3.7/dist-packages (from matplotlib->kaggler) (2.4.7)\n",
            "Requirement already satisfied: cycler>=0.10 in /usr/local/lib/python3.7/dist-packages (from matplotlib->kaggler) (0.10.0)\n",
            "Requirement already satisfied: kiwisolver>=1.0.1 in /usr/local/lib/python3.7/dist-packages (from matplotlib->kaggler) (1.3.1)\n",
            "Requirement already satisfied: python-dateutil>=2.1 in /usr/local/lib/python3.7/dist-packages (from matplotlib->kaggler) (2.8.1)\n",
            "Requirement already satisfied: python-slugify in /usr/local/lib/python3.7/dist-packages (from kaggle->kaggler) (5.0.2)\n",
            "Requirement already satisfied: requests in /usr/local/lib/python3.7/dist-packages (from kaggle->kaggler) (2.23.0)\n",
            "Requirement already satisfied: certifi in /usr/local/lib/python3.7/dist-packages (from kaggle->kaggler) (2020.12.5)\n",
            "Requirement already satisfied: urllib3 in /usr/local/lib/python3.7/dist-packages (from kaggle->kaggler) (1.24.3)\n",
            "Requirement already satisfied: setuptools in /usr/local/lib/python3.7/dist-packages (from protobuf>=3.9.2->tensorflow->kaggler) (56.1.0)\n",
            "Requirement already satisfied: werkzeug>=0.11.15 in /usr/local/lib/python3.7/dist-packages (from tensorboard~=2.4->tensorflow->kaggler) (2.0.0)\n",
            "Requirement already satisfied: google-auth-oauthlib<0.5,>=0.4.1 in /usr/local/lib/python3.7/dist-packages (from tensorboard~=2.4->tensorflow->kaggler) (0.4.4)\n",
            "Requirement already satisfied: tensorboard-plugin-wit>=1.6.0 in /usr/local/lib/python3.7/dist-packages (from tensorboard~=2.4->tensorflow->kaggler) (1.8.0)\n",
            "Requirement already satisfied: markdown>=2.6.8 in /usr/local/lib/python3.7/dist-packages (from tensorboard~=2.4->tensorflow->kaggler) (3.3.4)\n",
            "Requirement already satisfied: google-auth<2,>=1.6.3 in /usr/local/lib/python3.7/dist-packages (from tensorboard~=2.4->tensorflow->kaggler) (1.30.0)\n",
            "Requirement already satisfied: decorator<5,>=4.3 in /usr/local/lib/python3.7/dist-packages (from networkx->hyperopt->kaggler) (4.4.2)\n",
            "Requirement already satisfied: joblib>=0.11 in /usr/local/lib/python3.7/dist-packages (from scikit-learn->lightgbm->kaggler) (1.0.1)\n",
            "Requirement already satisfied: pytz>=2017.2 in /usr/local/lib/python3.7/dist-packages (from pandas->ml-metrics->kaggler) (2018.9)\n",
            "Requirement already satisfied: text-unidecode>=1.3 in /usr/local/lib/python3.7/dist-packages (from python-slugify->kaggle->kaggler) (1.3)\n",
            "Requirement already satisfied: chardet<4,>=3.0.2 in /usr/local/lib/python3.7/dist-packages (from requests->kaggle->kaggler) (3.0.4)\n",
            "Requirement already satisfied: idna<3,>=2.5 in /usr/local/lib/python3.7/dist-packages (from requests->kaggle->kaggler) (2.10)\n",
            "Requirement already satisfied: requests-oauthlib>=0.7.0 in /usr/local/lib/python3.7/dist-packages (from google-auth-oauthlib<0.5,>=0.4.1->tensorboard~=2.4->tensorflow->kaggler) (1.3.0)\n",
            "Requirement already satisfied: importlib-metadata; python_version < \"3.8\" in /usr/local/lib/python3.7/dist-packages (from markdown>=2.6.8->tensorboard~=2.4->tensorflow->kaggler) (4.0.1)\n",
            "Requirement already satisfied: cachetools<5.0,>=2.0.0 in /usr/local/lib/python3.7/dist-packages (from google-auth<2,>=1.6.3->tensorboard~=2.4->tensorflow->kaggler) (4.2.2)\n",
            "Requirement already satisfied: pyasn1-modules>=0.2.1 in /usr/local/lib/python3.7/dist-packages (from google-auth<2,>=1.6.3->tensorboard~=2.4->tensorflow->kaggler) (0.2.8)\n",
            "Requirement already satisfied: rsa<5,>=3.1.4; python_version >= \"3.6\" in /usr/local/lib/python3.7/dist-packages (from google-auth<2,>=1.6.3->tensorboard~=2.4->tensorflow->kaggler) (4.7.2)\n",
            "Requirement already satisfied: oauthlib>=3.0.0 in /usr/local/lib/python3.7/dist-packages (from requests-oauthlib>=0.7.0->google-auth-oauthlib<0.5,>=0.4.1->tensorboard~=2.4->tensorflow->kaggler) (3.1.0)\n",
            "Requirement already satisfied: zipp>=0.5 in /usr/local/lib/python3.7/dist-packages (from importlib-metadata; python_version < \"3.8\"->markdown>=2.6.8->tensorboard~=2.4->tensorflow->kaggler) (3.4.1)\n",
            "Requirement already satisfied: pyasn1<0.5.0,>=0.4.6 in /usr/local/lib/python3.7/dist-packages (from pyasn1-modules>=0.2.1->google-auth<2,>=1.6.3->tensorboard~=2.4->tensorflow->kaggler) (0.4.8)\n",
            "Building wheels for collected packages: kaggler, ml-metrics\n",
            "  Building wheel for kaggler (setup.py) ... \u001b[?25l\u001b[?25hdone\n",
            "  Created wheel for kaggler: filename=Kaggler-0.9.6-cp37-cp37m-linux_x86_64.whl size=2959086 sha256=7c17edb59dda8324569b8128855f951ceed339f3833d57b5b36cfc517c30627c\n",
            "  Stored in directory: /root/.cache/pip/wheels/75/06/a9/f2a7b621e4c6b0571cec751c462683e7528d4fd0bb51060b4f\n",
            "  Building wheel for ml-metrics (setup.py) ... \u001b[?25l\u001b[?25hdone\n",
            "  Created wheel for ml-metrics: filename=ml_metrics-0.1.4-cp37-none-any.whl size=7850 sha256=86e9d1d891e9f98f60b1bb2898334183f4e6989791d90d36802d6556395b7c3b\n",
            "  Stored in directory: /root/.cache/pip/wheels/b3/61/2d/776be7b8a4f14c5db48c8e5451451cabc58dc6aa7ee3801163\n",
            "Successfully built kaggler ml-metrics\n",
            "Installing collected packages: ml-metrics, kaggler\n",
            "Successfully installed kaggler-0.9.6 ml-metrics-0.1.4\n"
          ],
          "name": "stdout"
        },
        {
          "output_type": "stream",
          "text": [
            "/usr/local/lib/python3.7/dist-packages/statsmodels/tools/_testing.py:19: FutureWarning: pandas.util.testing is deprecated. Use the functions in the public API at pandas.testing instead.\n",
            "  import pandas.util.testing as tm\n"
          ],
          "name": "stderr"
        }
      ]
    },
    {
      "cell_type": "code",
      "metadata": {
        "id": "ed7FdA74b_fz",
        "colab": {
          "base_uri": "https://localhost:8080/"
        },
        "outputId": "032004a7-cb86-4958-dfab-8a434f40c858"
      },
      "source": [
        "import kaggler\n",
        "print(kaggler.__version__)"
      ],
      "execution_count": 3,
      "outputs": [
        {
          "output_type": "stream",
          "text": [
            "0.9.6\n"
          ],
          "name": "stdout"
        }
      ]
    },
    {
      "cell_type": "code",
      "metadata": {
        "id": "MrhG1JPyb_iT"
      },
      "source": [
        "pd.set_option('max_columns', 100)\n",
        "warnings.simplefilter('ignore')"
      ],
      "execution_count": 4,
      "outputs": []
    },
    {
      "cell_type": "markdown",
      "metadata": {
        "id": "6-vFHT_mcZyj"
      },
      "source": [
        "### Load Data"
      ]
    },
    {
      "cell_type": "code",
      "metadata": {
        "id": "joSUcjtWb_lk"
      },
      "source": [
        "algo_name = 'esb'\n",
        "model_name = f'{algo_name}'\n",
        "\n",
        "predict_val_file = f'{model_name}.val.txt'\n",
        "predict_tst_file = f'{model_name}.tst.txt'\n",
        "submission_file = f'{model_name}.sub.csv'\n",
        "\n",
        "index_col = 'index'\n",
        "target_col = 'credit'"
      ],
      "execution_count": 5,
      "outputs": []
    },
    {
      "cell_type": "code",
      "metadata": {
        "colab": {
          "base_uri": "https://localhost:8080/"
        },
        "id": "_YiTQnjocfe6",
        "outputId": "09d237a7-92d1-4f0a-e2ca-166304017413"
      },
      "source": [
        "from google.colab import drive\n",
        "drive.mount('/content/drive')"
      ],
      "execution_count": 7,
      "outputs": [
        {
          "output_type": "stream",
          "text": [
            "Mounted at /content/drive\n"
          ],
          "name": "stdout"
        }
      ]
    },
    {
      "cell_type": "code",
      "metadata": {
        "colab": {
          "base_uri": "https://localhost:8080/",
          "height": 421
        },
        "id": "X94PHGIAb_qg",
        "outputId": "3e12134d-87db-4ad9-c02b-fbf09220ffda"
      },
      "source": [
        "trn = pd.read_csv('/content/drive/MyDrive/DACON/credit/train.csv', index_col=index_col)\n",
        "print(trn.shape)\n",
        "trn.head()"
      ],
      "execution_count": 29,
      "outputs": [
        {
          "output_type": "stream",
          "text": [
            "(26457, 19)\n"
          ],
          "name": "stdout"
        },
        {
          "output_type": "execute_result",
          "data": {
            "text/html": [
              "<div>\n",
              "<style scoped>\n",
              "    .dataframe tbody tr th:only-of-type {\n",
              "        vertical-align: middle;\n",
              "    }\n",
              "\n",
              "    .dataframe tbody tr th {\n",
              "        vertical-align: top;\n",
              "    }\n",
              "\n",
              "    .dataframe thead th {\n",
              "        text-align: right;\n",
              "    }\n",
              "</style>\n",
              "<table border=\"1\" class=\"dataframe\">\n",
              "  <thead>\n",
              "    <tr style=\"text-align: right;\">\n",
              "      <th></th>\n",
              "      <th>gender</th>\n",
              "      <th>car</th>\n",
              "      <th>reality</th>\n",
              "      <th>child_num</th>\n",
              "      <th>income_total</th>\n",
              "      <th>income_type</th>\n",
              "      <th>edu_type</th>\n",
              "      <th>family_type</th>\n",
              "      <th>house_type</th>\n",
              "      <th>DAYS_BIRTH</th>\n",
              "      <th>DAYS_EMPLOYED</th>\n",
              "      <th>FLAG_MOBIL</th>\n",
              "      <th>work_phone</th>\n",
              "      <th>phone</th>\n",
              "      <th>email</th>\n",
              "      <th>occyp_type</th>\n",
              "      <th>family_size</th>\n",
              "      <th>begin_month</th>\n",
              "      <th>credit</th>\n",
              "    </tr>\n",
              "    <tr>\n",
              "      <th>index</th>\n",
              "      <th></th>\n",
              "      <th></th>\n",
              "      <th></th>\n",
              "      <th></th>\n",
              "      <th></th>\n",
              "      <th></th>\n",
              "      <th></th>\n",
              "      <th></th>\n",
              "      <th></th>\n",
              "      <th></th>\n",
              "      <th></th>\n",
              "      <th></th>\n",
              "      <th></th>\n",
              "      <th></th>\n",
              "      <th></th>\n",
              "      <th></th>\n",
              "      <th></th>\n",
              "      <th></th>\n",
              "      <th></th>\n",
              "    </tr>\n",
              "  </thead>\n",
              "  <tbody>\n",
              "    <tr>\n",
              "      <th>0</th>\n",
              "      <td>F</td>\n",
              "      <td>N</td>\n",
              "      <td>N</td>\n",
              "      <td>0</td>\n",
              "      <td>202500.0</td>\n",
              "      <td>Commercial associate</td>\n",
              "      <td>Higher education</td>\n",
              "      <td>Married</td>\n",
              "      <td>Municipal apartment</td>\n",
              "      <td>-13899</td>\n",
              "      <td>-4709</td>\n",
              "      <td>1</td>\n",
              "      <td>0</td>\n",
              "      <td>0</td>\n",
              "      <td>0</td>\n",
              "      <td>NaN</td>\n",
              "      <td>2.0</td>\n",
              "      <td>-6.0</td>\n",
              "      <td>1.0</td>\n",
              "    </tr>\n",
              "    <tr>\n",
              "      <th>1</th>\n",
              "      <td>F</td>\n",
              "      <td>N</td>\n",
              "      <td>Y</td>\n",
              "      <td>1</td>\n",
              "      <td>247500.0</td>\n",
              "      <td>Commercial associate</td>\n",
              "      <td>Secondary / secondary special</td>\n",
              "      <td>Civil marriage</td>\n",
              "      <td>House / apartment</td>\n",
              "      <td>-11380</td>\n",
              "      <td>-1540</td>\n",
              "      <td>1</td>\n",
              "      <td>0</td>\n",
              "      <td>0</td>\n",
              "      <td>1</td>\n",
              "      <td>Laborers</td>\n",
              "      <td>3.0</td>\n",
              "      <td>-5.0</td>\n",
              "      <td>1.0</td>\n",
              "    </tr>\n",
              "    <tr>\n",
              "      <th>2</th>\n",
              "      <td>M</td>\n",
              "      <td>Y</td>\n",
              "      <td>Y</td>\n",
              "      <td>0</td>\n",
              "      <td>450000.0</td>\n",
              "      <td>Working</td>\n",
              "      <td>Higher education</td>\n",
              "      <td>Married</td>\n",
              "      <td>House / apartment</td>\n",
              "      <td>-19087</td>\n",
              "      <td>-4434</td>\n",
              "      <td>1</td>\n",
              "      <td>0</td>\n",
              "      <td>1</td>\n",
              "      <td>0</td>\n",
              "      <td>Managers</td>\n",
              "      <td>2.0</td>\n",
              "      <td>-22.0</td>\n",
              "      <td>2.0</td>\n",
              "    </tr>\n",
              "    <tr>\n",
              "      <th>3</th>\n",
              "      <td>F</td>\n",
              "      <td>N</td>\n",
              "      <td>Y</td>\n",
              "      <td>0</td>\n",
              "      <td>202500.0</td>\n",
              "      <td>Commercial associate</td>\n",
              "      <td>Secondary / secondary special</td>\n",
              "      <td>Married</td>\n",
              "      <td>House / apartment</td>\n",
              "      <td>-15088</td>\n",
              "      <td>-2092</td>\n",
              "      <td>1</td>\n",
              "      <td>0</td>\n",
              "      <td>1</td>\n",
              "      <td>0</td>\n",
              "      <td>Sales staff</td>\n",
              "      <td>2.0</td>\n",
              "      <td>-37.0</td>\n",
              "      <td>0.0</td>\n",
              "    </tr>\n",
              "    <tr>\n",
              "      <th>4</th>\n",
              "      <td>F</td>\n",
              "      <td>Y</td>\n",
              "      <td>Y</td>\n",
              "      <td>0</td>\n",
              "      <td>157500.0</td>\n",
              "      <td>State servant</td>\n",
              "      <td>Higher education</td>\n",
              "      <td>Married</td>\n",
              "      <td>House / apartment</td>\n",
              "      <td>-15037</td>\n",
              "      <td>-2105</td>\n",
              "      <td>1</td>\n",
              "      <td>0</td>\n",
              "      <td>0</td>\n",
              "      <td>0</td>\n",
              "      <td>Managers</td>\n",
              "      <td>2.0</td>\n",
              "      <td>-26.0</td>\n",
              "      <td>2.0</td>\n",
              "    </tr>\n",
              "  </tbody>\n",
              "</table>\n",
              "</div>"
            ],
            "text/plain": [
              "      gender car reality  child_num  income_total           income_type  \\\n",
              "index                                                                     \n",
              "0          F   N       N          0      202500.0  Commercial associate   \n",
              "1          F   N       Y          1      247500.0  Commercial associate   \n",
              "2          M   Y       Y          0      450000.0               Working   \n",
              "3          F   N       Y          0      202500.0  Commercial associate   \n",
              "4          F   Y       Y          0      157500.0         State servant   \n",
              "\n",
              "                            edu_type     family_type           house_type  \\\n",
              "index                                                                       \n",
              "0                   Higher education         Married  Municipal apartment   \n",
              "1      Secondary / secondary special  Civil marriage    House / apartment   \n",
              "2                   Higher education         Married    House / apartment   \n",
              "3      Secondary / secondary special         Married    House / apartment   \n",
              "4                   Higher education         Married    House / apartment   \n",
              "\n",
              "       DAYS_BIRTH  DAYS_EMPLOYED  FLAG_MOBIL  work_phone  phone  email  \\\n",
              "index                                                                    \n",
              "0          -13899          -4709           1           0      0      0   \n",
              "1          -11380          -1540           1           0      0      1   \n",
              "2          -19087          -4434           1           0      1      0   \n",
              "3          -15088          -2092           1           0      1      0   \n",
              "4          -15037          -2105           1           0      0      0   \n",
              "\n",
              "        occyp_type  family_size  begin_month  credit  \n",
              "index                                                 \n",
              "0              NaN          2.0         -6.0     1.0  \n",
              "1         Laborers          3.0         -5.0     1.0  \n",
              "2         Managers          2.0        -22.0     2.0  \n",
              "3      Sales staff          2.0        -37.0     0.0  \n",
              "4         Managers          2.0        -26.0     2.0  "
            ]
          },
          "metadata": {
            "tags": []
          },
          "execution_count": 29
        }
      ]
    },
    {
      "cell_type": "code",
      "metadata": {
        "colab": {
          "base_uri": "https://localhost:8080/",
          "height": 455
        },
        "id": "V9wMJpu_b_tA",
        "outputId": "b3c45549-72b8-4809-96c5-241264fe4f7c"
      },
      "source": [
        "tst = pd.read_csv('/content/drive/MyDrive/DACON/credit/test.csv', index_col=index_col)\n",
        "print(tst.shape)\n",
        "tst.head()"
      ],
      "execution_count": 30,
      "outputs": [
        {
          "output_type": "stream",
          "text": [
            "(10000, 18)\n"
          ],
          "name": "stdout"
        },
        {
          "output_type": "execute_result",
          "data": {
            "text/html": [
              "<div>\n",
              "<style scoped>\n",
              "    .dataframe tbody tr th:only-of-type {\n",
              "        vertical-align: middle;\n",
              "    }\n",
              "\n",
              "    .dataframe tbody tr th {\n",
              "        vertical-align: top;\n",
              "    }\n",
              "\n",
              "    .dataframe thead th {\n",
              "        text-align: right;\n",
              "    }\n",
              "</style>\n",
              "<table border=\"1\" class=\"dataframe\">\n",
              "  <thead>\n",
              "    <tr style=\"text-align: right;\">\n",
              "      <th></th>\n",
              "      <th>gender</th>\n",
              "      <th>car</th>\n",
              "      <th>reality</th>\n",
              "      <th>child_num</th>\n",
              "      <th>income_total</th>\n",
              "      <th>income_type</th>\n",
              "      <th>edu_type</th>\n",
              "      <th>family_type</th>\n",
              "      <th>house_type</th>\n",
              "      <th>DAYS_BIRTH</th>\n",
              "      <th>DAYS_EMPLOYED</th>\n",
              "      <th>FLAG_MOBIL</th>\n",
              "      <th>work_phone</th>\n",
              "      <th>phone</th>\n",
              "      <th>email</th>\n",
              "      <th>occyp_type</th>\n",
              "      <th>family_size</th>\n",
              "      <th>begin_month</th>\n",
              "    </tr>\n",
              "    <tr>\n",
              "      <th>index</th>\n",
              "      <th></th>\n",
              "      <th></th>\n",
              "      <th></th>\n",
              "      <th></th>\n",
              "      <th></th>\n",
              "      <th></th>\n",
              "      <th></th>\n",
              "      <th></th>\n",
              "      <th></th>\n",
              "      <th></th>\n",
              "      <th></th>\n",
              "      <th></th>\n",
              "      <th></th>\n",
              "      <th></th>\n",
              "      <th></th>\n",
              "      <th></th>\n",
              "      <th></th>\n",
              "      <th></th>\n",
              "    </tr>\n",
              "  </thead>\n",
              "  <tbody>\n",
              "    <tr>\n",
              "      <th>26457</th>\n",
              "      <td>M</td>\n",
              "      <td>Y</td>\n",
              "      <td>N</td>\n",
              "      <td>0</td>\n",
              "      <td>112500.0</td>\n",
              "      <td>Pensioner</td>\n",
              "      <td>Secondary / secondary special</td>\n",
              "      <td>Civil marriage</td>\n",
              "      <td>House / apartment</td>\n",
              "      <td>-21990</td>\n",
              "      <td>365243</td>\n",
              "      <td>1</td>\n",
              "      <td>0</td>\n",
              "      <td>1</td>\n",
              "      <td>0</td>\n",
              "      <td>NaN</td>\n",
              "      <td>2.0</td>\n",
              "      <td>-60.0</td>\n",
              "    </tr>\n",
              "    <tr>\n",
              "      <th>26458</th>\n",
              "      <td>F</td>\n",
              "      <td>N</td>\n",
              "      <td>Y</td>\n",
              "      <td>0</td>\n",
              "      <td>135000.0</td>\n",
              "      <td>State servant</td>\n",
              "      <td>Higher education</td>\n",
              "      <td>Married</td>\n",
              "      <td>House / apartment</td>\n",
              "      <td>-18964</td>\n",
              "      <td>-8671</td>\n",
              "      <td>1</td>\n",
              "      <td>0</td>\n",
              "      <td>1</td>\n",
              "      <td>0</td>\n",
              "      <td>Core staff</td>\n",
              "      <td>2.0</td>\n",
              "      <td>-36.0</td>\n",
              "    </tr>\n",
              "    <tr>\n",
              "      <th>26459</th>\n",
              "      <td>F</td>\n",
              "      <td>N</td>\n",
              "      <td>Y</td>\n",
              "      <td>0</td>\n",
              "      <td>69372.0</td>\n",
              "      <td>Working</td>\n",
              "      <td>Secondary / secondary special</td>\n",
              "      <td>Married</td>\n",
              "      <td>House / apartment</td>\n",
              "      <td>-15887</td>\n",
              "      <td>-217</td>\n",
              "      <td>1</td>\n",
              "      <td>1</td>\n",
              "      <td>1</td>\n",
              "      <td>0</td>\n",
              "      <td>Laborers</td>\n",
              "      <td>2.0</td>\n",
              "      <td>-40.0</td>\n",
              "    </tr>\n",
              "    <tr>\n",
              "      <th>26460</th>\n",
              "      <td>M</td>\n",
              "      <td>Y</td>\n",
              "      <td>N</td>\n",
              "      <td>0</td>\n",
              "      <td>112500.0</td>\n",
              "      <td>Commercial associate</td>\n",
              "      <td>Secondary / secondary special</td>\n",
              "      <td>Married</td>\n",
              "      <td>House / apartment</td>\n",
              "      <td>-19270</td>\n",
              "      <td>-2531</td>\n",
              "      <td>1</td>\n",
              "      <td>1</td>\n",
              "      <td>0</td>\n",
              "      <td>0</td>\n",
              "      <td>Drivers</td>\n",
              "      <td>2.0</td>\n",
              "      <td>-41.0</td>\n",
              "    </tr>\n",
              "    <tr>\n",
              "      <th>26461</th>\n",
              "      <td>F</td>\n",
              "      <td>Y</td>\n",
              "      <td>Y</td>\n",
              "      <td>0</td>\n",
              "      <td>225000.0</td>\n",
              "      <td>State servant</td>\n",
              "      <td>Higher education</td>\n",
              "      <td>Married</td>\n",
              "      <td>House / apartment</td>\n",
              "      <td>-17822</td>\n",
              "      <td>-9385</td>\n",
              "      <td>1</td>\n",
              "      <td>1</td>\n",
              "      <td>0</td>\n",
              "      <td>0</td>\n",
              "      <td>Managers</td>\n",
              "      <td>2.0</td>\n",
              "      <td>-8.0</td>\n",
              "    </tr>\n",
              "  </tbody>\n",
              "</table>\n",
              "</div>"
            ],
            "text/plain": [
              "      gender car reality  child_num  income_total           income_type  \\\n",
              "index                                                                     \n",
              "26457      M   Y       N          0      112500.0             Pensioner   \n",
              "26458      F   N       Y          0      135000.0         State servant   \n",
              "26459      F   N       Y          0       69372.0               Working   \n",
              "26460      M   Y       N          0      112500.0  Commercial associate   \n",
              "26461      F   Y       Y          0      225000.0         State servant   \n",
              "\n",
              "                            edu_type     family_type         house_type  \\\n",
              "index                                                                     \n",
              "26457  Secondary / secondary special  Civil marriage  House / apartment   \n",
              "26458               Higher education         Married  House / apartment   \n",
              "26459  Secondary / secondary special         Married  House / apartment   \n",
              "26460  Secondary / secondary special         Married  House / apartment   \n",
              "26461               Higher education         Married  House / apartment   \n",
              "\n",
              "       DAYS_BIRTH  DAYS_EMPLOYED  FLAG_MOBIL  work_phone  phone  email  \\\n",
              "index                                                                    \n",
              "26457      -21990         365243           1           0      1      0   \n",
              "26458      -18964          -8671           1           0      1      0   \n",
              "26459      -15887           -217           1           1      1      0   \n",
              "26460      -19270          -2531           1           1      0      0   \n",
              "26461      -17822          -9385           1           1      0      0   \n",
              "\n",
              "       occyp_type  family_size  begin_month  \n",
              "index                                        \n",
              "26457         NaN          2.0        -60.0  \n",
              "26458  Core staff          2.0        -36.0  \n",
              "26459    Laborers          2.0        -40.0  \n",
              "26460     Drivers          2.0        -41.0  \n",
              "26461    Managers          2.0         -8.0  "
            ]
          },
          "metadata": {
            "tags": []
          },
          "execution_count": 30
        }
      ]
    },
    {
      "cell_type": "code",
      "metadata": {
        "colab": {
          "base_uri": "https://localhost:8080/",
          "height": 248
        },
        "id": "T183J7qtb_vF",
        "outputId": "c884ac6d-51d2-4503-a651-731e2163f061"
      },
      "source": [
        "sub = pd.read_csv('/content/drive/MyDrive/DACON/credit/sample_submission.csv', index_col=index_col)\n",
        "print(sub.shape)\n",
        "sub.head()"
      ],
      "execution_count": 31,
      "outputs": [
        {
          "output_type": "stream",
          "text": [
            "(10000, 3)\n"
          ],
          "name": "stdout"
        },
        {
          "output_type": "execute_result",
          "data": {
            "text/html": [
              "<div>\n",
              "<style scoped>\n",
              "    .dataframe tbody tr th:only-of-type {\n",
              "        vertical-align: middle;\n",
              "    }\n",
              "\n",
              "    .dataframe tbody tr th {\n",
              "        vertical-align: top;\n",
              "    }\n",
              "\n",
              "    .dataframe thead th {\n",
              "        text-align: right;\n",
              "    }\n",
              "</style>\n",
              "<table border=\"1\" class=\"dataframe\">\n",
              "  <thead>\n",
              "    <tr style=\"text-align: right;\">\n",
              "      <th></th>\n",
              "      <th>0</th>\n",
              "      <th>1</th>\n",
              "      <th>2</th>\n",
              "    </tr>\n",
              "    <tr>\n",
              "      <th>index</th>\n",
              "      <th></th>\n",
              "      <th></th>\n",
              "      <th></th>\n",
              "    </tr>\n",
              "  </thead>\n",
              "  <tbody>\n",
              "    <tr>\n",
              "      <th>26457</th>\n",
              "      <td>0</td>\n",
              "      <td>0</td>\n",
              "      <td>0</td>\n",
              "    </tr>\n",
              "    <tr>\n",
              "      <th>26458</th>\n",
              "      <td>0</td>\n",
              "      <td>0</td>\n",
              "      <td>0</td>\n",
              "    </tr>\n",
              "    <tr>\n",
              "      <th>26459</th>\n",
              "      <td>0</td>\n",
              "      <td>0</td>\n",
              "      <td>0</td>\n",
              "    </tr>\n",
              "    <tr>\n",
              "      <th>26460</th>\n",
              "      <td>0</td>\n",
              "      <td>0</td>\n",
              "      <td>0</td>\n",
              "    </tr>\n",
              "    <tr>\n",
              "      <th>26461</th>\n",
              "      <td>0</td>\n",
              "      <td>0</td>\n",
              "      <td>0</td>\n",
              "    </tr>\n",
              "  </tbody>\n",
              "</table>\n",
              "</div>"
            ],
            "text/plain": [
              "       0  1  2\n",
              "index         \n",
              "26457  0  0  0\n",
              "26458  0  0  0\n",
              "26459  0  0  0\n",
              "26460  0  0  0\n",
              "26461  0  0  0"
            ]
          },
          "metadata": {
            "tags": []
          },
          "execution_count": 31
        }
      ]
    },
    {
      "cell_type": "markdown",
      "metadata": {
        "id": "Nf3PUJw8dDIn"
      },
      "source": [
        "## Feature Engineering"
      ]
    },
    {
      "cell_type": "code",
      "metadata": {
        "colab": {
          "base_uri": "https://localhost:8080/"
        },
        "id": "oq_hy1_GxLZK",
        "outputId": "a48c67a5-3fa4-4c5c-c9e5-2081cf130a20"
      },
      "source": [
        "# Feature Selection(shap)\n",
        "cat_cols = ['reality', 'occyp_type','income_type']\n",
        "num_cols = ['income_total', 'DAYS_BIRTH', 'DAYS_EMPLOYED', 'begin_month']\n",
        "feature_cols = num_cols + cat_cols\n",
        "print(len(feature_cols), len(cat_cols), len(num_cols))"
      ],
      "execution_count": 32,
      "outputs": [
        {
          "output_type": "stream",
          "text": [
            "7 3 4\n"
          ],
          "name": "stdout"
        }
      ]
    },
    {
      "cell_type": "markdown",
      "metadata": {
        "id": "iLXNAgcgxzZo"
      },
      "source": [
        "### Data 전처리 (occyp_type)"
      ]
    },
    {
      "cell_type": "code",
      "metadata": {
        "id": "MI4QxEZEx6rS"
      },
      "source": [
        "def occyptype_pre(data):\n",
        "  data.loc[data[\"DAYS_EMPLOYED\"] >= 0,'occyp_type'] = \"No job\"\n",
        "  data[\"occyp_type\"] = data[\"occyp_type\"].fillna(\"unknown\")\n",
        "  return"
      ],
      "execution_count": 33,
      "outputs": []
    },
    {
      "cell_type": "code",
      "metadata": {
        "id": "WDQKEnNfx6wA"
      },
      "source": [
        "occyptype_pre(trn)\n",
        "occyptype_pre(tst)"
      ],
      "execution_count": 34,
      "outputs": []
    },
    {
      "cell_type": "markdown",
      "metadata": {
        "id": "2Zf0Uu9syDq9"
      },
      "source": [
        "### 빈도수가 적은 data 처리"
      ]
    },
    {
      "cell_type": "code",
      "metadata": {
        "id": "yTVGyKvXyCoo"
      },
      "source": [
        "# 빈도수가 적은 카테고리 확인(1% 기준)\n",
        "# staff 직군으로 묶기(빈도수가 낮은 집단이 모두 staff -> sales staff로 묶어서 진행해보자)\n",
        "def find_minority_cats(cat_cols, data_df, composite_category='Sales staff', threshold=0.03):\n",
        "    \"\"\" Find minority categories for each feature column, and create a \n",
        "        dictionary that maps those to selected composite category \"\"\"\n",
        "    minority_col_dict = {}\n",
        "    minority_mapping_dict = {}\n",
        "    \n",
        "    # find all feature categories with less than 1% proportion\n",
        "    for feature in cat_cols:\n",
        "        minority_col_dict[feature] = []\n",
        "        minority_mapping_dict[feature] = {}\n",
        "        \n",
        "        for category, proportion in data_df[feature].value_counts(normalize=True).iteritems():\n",
        "            if proportion < threshold:\n",
        "                minority_col_dict[feature].append(category)\n",
        "                \n",
        "                # map those minority cats to chosen composite feature\n",
        "                minority_mapping_dict[feature] = { x : composite_category for x \n",
        "                                                  in minority_col_dict[feature]}\n",
        "                \n",
        "    return minority_mapping_dict, minority_col_dict"
      ],
      "execution_count": 35,
      "outputs": []
    },
    {
      "cell_type": "code",
      "metadata": {
        "colab": {
          "base_uri": "https://localhost:8080/"
        },
        "id": "esf0KqNzyJRU",
        "outputId": "beb3fb00-e0ea-4bcf-9e64-bbe183b13413"
      },
      "source": [
        "cat_min_mappings, minority_cols = find_minority_cats([\"occyp_type\"], trn)\n",
        "minority_cols"
      ],
      "execution_count": 36,
      "outputs": [
        {
          "output_type": "execute_result",
          "data": {
            "text/plain": [
              "{'occyp_type': ['Cooking staff',\n",
              "  'Security staff',\n",
              "  'Cleaning staff',\n",
              "  'Private service staff',\n",
              "  'Low-skill Laborers',\n",
              "  'Waiters/barmen staff',\n",
              "  'Secretaries',\n",
              "  'Realty agents',\n",
              "  'HR staff',\n",
              "  'IT staff']}"
            ]
          },
          "metadata": {
            "tags": []
          },
          "execution_count": 36
        }
      ]
    },
    {
      "cell_type": "code",
      "metadata": {
        "id": "8gN5N6FPyNrW"
      },
      "source": [
        "trn[\"occyp_type\"] = trn[\"occyp_type\"].replace(cat_min_mappings[\"occyp_type\"])\n",
        "tst[\"occyp_type\"] = tst[\"occyp_type\"].replace(cat_min_mappings[\"occyp_type\"])"
      ],
      "execution_count": 37,
      "outputs": []
    },
    {
      "cell_type": "code",
      "metadata": {
        "id": "L4tmMZXyyNuC"
      },
      "source": [
        "special_type = ['High skill tech staff','Medicine staff','Accountants']\n",
        "\n",
        "def specialist(data):\n",
        "  data.loc[data[\"occyp_type\"] == 'High skill tech staff','occyp_type'] = \"specialist\"\n",
        "  data.loc[data[\"occyp_type\"] == 'Medicine staff','occyp_type'] = \"specialist\"\n",
        "  data.loc[data[\"occyp_type\"] == 'Accountants','occyp_type'] = \"specialist\"\n",
        "\n",
        "  data[\"occyp_type\"] = data[\"occyp_type\"].fillna(\"unknown\")\n",
        "  return"
      ],
      "execution_count": 38,
      "outputs": []
    },
    {
      "cell_type": "code",
      "metadata": {
        "id": "pRwEazEqyJZp"
      },
      "source": [
        "specialist(trn)\n",
        "specialist(tst)"
      ],
      "execution_count": 39,
      "outputs": []
    },
    {
      "cell_type": "code",
      "metadata": {
        "colab": {
          "base_uri": "https://localhost:8080/"
        },
        "id": "pXsud_7vyad9",
        "outputId": "c1029e6b-646c-479f-ab33-cb70ec94fd3b"
      },
      "source": [
        "trn['occyp_type'].unique()"
      ],
      "execution_count": 40,
      "outputs": [
        {
          "output_type": "execute_result",
          "data": {
            "text/plain": [
              "array(['unknown', 'Laborers', 'Managers', 'Sales staff', 'specialist',\n",
              "       'Core staff', 'Drivers', 'No job'], dtype=object)"
            ]
          },
          "metadata": {
            "tags": []
          },
          "execution_count": 40
        }
      ]
    },
    {
      "cell_type": "code",
      "metadata": {
        "id": "yj84CCejdA-K"
      },
      "source": [
        "lbe = LabelEncoder(min_obs=10)\n",
        "trn[cat_cols] = lbe.fit_transform(trn[cat_cols])\n",
        "tst[cat_cols] = lbe.transform(tst[cat_cols])"
      ],
      "execution_count": 41,
      "outputs": []
    },
    {
      "cell_type": "code",
      "metadata": {
        "id": "mDpLl8NidBAj"
      },
      "source": [
        "scaler = StandardScaler()\n",
        "trn[num_cols] = scaler.fit_transform(trn[num_cols])\n",
        "tst[num_cols] = scaler.transform(tst[num_cols])"
      ],
      "execution_count": 42,
      "outputs": []
    },
    {
      "cell_type": "code",
      "metadata": {
        "id": "Wd96I1bsyw8P"
      },
      "source": [
        "trn= trn.drop(['child_num', 'FLAG_MOBIL', 'house_type', 'edu_type', 'gender', 'phone', 'email', 'family_type', 'family_size', 'car', 'work_phone'],axis=1)\n",
        "tst= tst.drop(['child_num', 'FLAG_MOBIL', 'house_type', 'edu_type', 'gender', 'phone', 'email', 'family_type', 'family_size', 'car', 'work_phone'],axis=1)"
      ],
      "execution_count": 43,
      "outputs": []
    },
    {
      "cell_type": "code",
      "metadata": {
        "colab": {
          "base_uri": "https://localhost:8080/",
          "height": 441
        },
        "id": "4FP0Yi3gzInZ",
        "outputId": "6686d676-9a62-4774-fbf4-d9b3e613b6a3"
      },
      "source": [
        "trn"
      ],
      "execution_count": 44,
      "outputs": [
        {
          "output_type": "execute_result",
          "data": {
            "text/html": [
              "<div>\n",
              "<style scoped>\n",
              "    .dataframe tbody tr th:only-of-type {\n",
              "        vertical-align: middle;\n",
              "    }\n",
              "\n",
              "    .dataframe tbody tr th {\n",
              "        vertical-align: top;\n",
              "    }\n",
              "\n",
              "    .dataframe thead th {\n",
              "        text-align: right;\n",
              "    }\n",
              "</style>\n",
              "<table border=\"1\" class=\"dataframe\">\n",
              "  <thead>\n",
              "    <tr style=\"text-align: right;\">\n",
              "      <th></th>\n",
              "      <th>reality</th>\n",
              "      <th>income_total</th>\n",
              "      <th>income_type</th>\n",
              "      <th>DAYS_BIRTH</th>\n",
              "      <th>DAYS_EMPLOYED</th>\n",
              "      <th>occyp_type</th>\n",
              "      <th>begin_month</th>\n",
              "      <th>credit</th>\n",
              "    </tr>\n",
              "    <tr>\n",
              "      <th>index</th>\n",
              "      <th></th>\n",
              "      <th></th>\n",
              "      <th></th>\n",
              "      <th></th>\n",
              "      <th></th>\n",
              "      <th></th>\n",
              "      <th></th>\n",
              "      <th></th>\n",
              "    </tr>\n",
              "  </thead>\n",
              "  <tbody>\n",
              "    <tr>\n",
              "      <th>0</th>\n",
              "      <td>1</td>\n",
              "      <td>0.149136</td>\n",
              "      <td>2</td>\n",
              "      <td>0.490075</td>\n",
              "      <td>-0.463930</td>\n",
              "      <td>3</td>\n",
              "      <td>1.215231</td>\n",
              "      <td>1.0</td>\n",
              "    </tr>\n",
              "    <tr>\n",
              "      <th>1</th>\n",
              "      <td>0</td>\n",
              "      <td>0.590848</td>\n",
              "      <td>2</td>\n",
              "      <td>1.089621</td>\n",
              "      <td>-0.440878</td>\n",
              "      <td>1</td>\n",
              "      <td>1.275620</td>\n",
              "      <td>1.0</td>\n",
              "    </tr>\n",
              "    <tr>\n",
              "      <th>2</th>\n",
              "      <td>0</td>\n",
              "      <td>2.578550</td>\n",
              "      <td>1</td>\n",
              "      <td>-0.744719</td>\n",
              "      <td>-0.461929</td>\n",
              "      <td>6</td>\n",
              "      <td>0.249003</td>\n",
              "      <td>2.0</td>\n",
              "    </tr>\n",
              "    <tr>\n",
              "      <th>3</th>\n",
              "      <td>0</td>\n",
              "      <td>0.149136</td>\n",
              "      <td>2</td>\n",
              "      <td>0.207081</td>\n",
              "      <td>-0.444893</td>\n",
              "      <td>0</td>\n",
              "      <td>-0.656836</td>\n",
              "      <td>0.0</td>\n",
              "    </tr>\n",
              "    <tr>\n",
              "      <th>4</th>\n",
              "      <td>0</td>\n",
              "      <td>-0.292575</td>\n",
              "      <td>4</td>\n",
              "      <td>0.219220</td>\n",
              "      <td>-0.444988</td>\n",
              "      <td>6</td>\n",
              "      <td>0.007446</td>\n",
              "      <td>2.0</td>\n",
              "    </tr>\n",
              "    <tr>\n",
              "      <th>...</th>\n",
              "      <td>...</td>\n",
              "      <td>...</td>\n",
              "      <td>...</td>\n",
              "      <td>...</td>\n",
              "      <td>...</td>\n",
              "      <td>...</td>\n",
              "      <td>...</td>\n",
              "      <td>...</td>\n",
              "    </tr>\n",
              "    <tr>\n",
              "      <th>26452</th>\n",
              "      <td>1</td>\n",
              "      <td>0.369992</td>\n",
              "      <td>4</td>\n",
              "      <td>0.923252</td>\n",
              "      <td>-0.444108</td>\n",
              "      <td>5</td>\n",
              "      <td>1.456788</td>\n",
              "      <td>1.0</td>\n",
              "    </tr>\n",
              "    <tr>\n",
              "      <th>26453</th>\n",
              "      <td>0</td>\n",
              "      <td>-0.071719</td>\n",
              "      <td>1</td>\n",
              "      <td>0.158765</td>\n",
              "      <td>-0.447679</td>\n",
              "      <td>3</td>\n",
              "      <td>-1.260729</td>\n",
              "      <td>2.0</td>\n",
              "    </tr>\n",
              "    <tr>\n",
              "      <th>26454</th>\n",
              "      <td>1</td>\n",
              "      <td>1.032559</td>\n",
              "      <td>1</td>\n",
              "      <td>1.398558</td>\n",
              "      <td>-0.444333</td>\n",
              "      <td>5</td>\n",
              "      <td>0.067835</td>\n",
              "      <td>2.0</td>\n",
              "    </tr>\n",
              "    <tr>\n",
              "      <th>26455</th>\n",
              "      <td>0</td>\n",
              "      <td>-0.160062</td>\n",
              "      <td>1</td>\n",
              "      <td>1.383563</td>\n",
              "      <td>-0.430454</td>\n",
              "      <td>1</td>\n",
              "      <td>-1.985400</td>\n",
              "      <td>2.0</td>\n",
              "    </tr>\n",
              "    <tr>\n",
              "      <th>26456</th>\n",
              "      <td>1</td>\n",
              "      <td>-1.043485</td>\n",
              "      <td>1</td>\n",
              "      <td>-0.859440</td>\n",
              "      <td>-0.437045</td>\n",
              "      <td>0</td>\n",
              "      <td>1.034063</td>\n",
              "      <td>2.0</td>\n",
              "    </tr>\n",
              "  </tbody>\n",
              "</table>\n",
              "<p>26457 rows × 8 columns</p>\n",
              "</div>"
            ],
            "text/plain": [
              "       reality  income_total  income_type  DAYS_BIRTH  DAYS_EMPLOYED  \\\n",
              "index                                                                  \n",
              "0            1      0.149136            2    0.490075      -0.463930   \n",
              "1            0      0.590848            2    1.089621      -0.440878   \n",
              "2            0      2.578550            1   -0.744719      -0.461929   \n",
              "3            0      0.149136            2    0.207081      -0.444893   \n",
              "4            0     -0.292575            4    0.219220      -0.444988   \n",
              "...        ...           ...          ...         ...            ...   \n",
              "26452        1      0.369992            4    0.923252      -0.444108   \n",
              "26453        0     -0.071719            1    0.158765      -0.447679   \n",
              "26454        1      1.032559            1    1.398558      -0.444333   \n",
              "26455        0     -0.160062            1    1.383563      -0.430454   \n",
              "26456        1     -1.043485            1   -0.859440      -0.437045   \n",
              "\n",
              "       occyp_type  begin_month  credit  \n",
              "index                                   \n",
              "0               3     1.215231     1.0  \n",
              "1               1     1.275620     1.0  \n",
              "2               6     0.249003     2.0  \n",
              "3               0    -0.656836     0.0  \n",
              "4               6     0.007446     2.0  \n",
              "...           ...          ...     ...  \n",
              "26452           5     1.456788     1.0  \n",
              "26453           3    -1.260729     2.0  \n",
              "26454           5     0.067835     2.0  \n",
              "26455           1    -1.985400     2.0  \n",
              "26456           0     1.034063     2.0  \n",
              "\n",
              "[26457 rows x 8 columns]"
            ]
          },
          "metadata": {
            "tags": []
          },
          "execution_count": 44
        }
      ]
    },
    {
      "cell_type": "markdown",
      "metadata": {
        "id": "RCoc_MAPdOco"
      },
      "source": [
        "### Base Model"
      ]
    },
    {
      "cell_type": "code",
      "metadata": {
        "id": "ELCCrdUGdBDE"
      },
      "source": [
        "n_est = 1000\n",
        "seed = 42\n",
        "n_fold = 5\n",
        "n_class = 3\n",
        "\n",
        "lgb_params = {\n",
        "    'metric': 'multi_logloss',\n",
        "    'n_estimators': n_est,\n",
        "    'objective': 'multiclass',\n",
        "    'random_state': seed,\n",
        "    'learning_rate': 0.01,\n",
        "    'min_child_samples': 20,\n",
        "    'reg_alpha': 3e-5,\n",
        "    'reg_lambda': 9e-2,\n",
        "    'num_leaves': 63,\n",
        "    'colsample_bytree': 0.8,\n",
        "    'subsample': 0.8,\n",
        "    'num_class': n_class\n",
        "}\n",
        "\n",
        "xgb_params = {\n",
        "    'metric': 'mlogloss',\n",
        "    'objective': 'multi:softprob',\n",
        "    'subsample': 0.8,\n",
        "    'colsample_bytree': 0.8,\n",
        "    'learning_rate': 0.01,\n",
        "    'random_state': seed,\n",
        "    'num_class': n_class,\n",
        "    'max_depth': 6,\n",
        "    'n_estimators': n_est,\n",
        "    'min_child_samples': 20,\n",
        "    'reg_alpha': 3e-5,\n",
        "    'reg_lambda': 9e-2,\n",
        "}\n",
        "\n",
        "rf_params = {\n",
        "    'max_depth': 15,\n",
        "    'min_samples_leaf': 8,\n",
        "    'random_state': seed\n",
        "}"
      ],
      "execution_count": 45,
      "outputs": []
    },
    {
      "cell_type": "code",
      "metadata": {
        "id": "m82z8gHbdBFf"
      },
      "source": [
        "from sklearn.ensemble import RandomForestClassifier, ExtraTreesClassifier\n",
        "from lightgbm import LGBMClassifier\n",
        "from xgboost import XGBClassifier\n",
        "\n",
        "\n",
        "base_models = {'rf': RandomForestClassifier(**rf_params), \n",
        "               'lgb': LGBMClassifier(**lgb_params),\n",
        "               'xgb': XGBClassifier(),\n",
        "               'et': ExtraTreesClassifier(bootstrap=True, \n",
        "                                          criterion='entropy', \n",
        "                                          max_features=0.55, \n",
        "                                          min_samples_leaf=8, \n",
        "                                          min_samples_split=4, \n",
        "                                          n_estimators=100)}"
      ],
      "execution_count": 46,
      "outputs": []
    },
    {
      "cell_type": "code",
      "metadata": {
        "colab": {
          "base_uri": "https://localhost:8080/"
        },
        "id": "9cqJUetmdWAF",
        "outputId": "48e728a0-3c6d-4a30-a330-e5acb3048935"
      },
      "source": [
        "from copy import copy\n",
        "\n",
        "X = trn[feature_cols]\n",
        "y = trn[target_col]\n",
        "X_tst = tst[feature_cols]\n",
        "\n",
        "cv = StratifiedKFold(n_splits=n_fold, shuffle=True, random_state=seed)\n",
        "\n",
        "p_dict = {}\n",
        "p_tst_dict = {}\n",
        "for name in base_models:\n",
        "    print(f'Training {name}:')\n",
        "    p = np.zeros((X.shape[0], n_class), dtype=float)\n",
        "    p_tst = np.zeros((X_tst.shape[0], n_class), dtype=float)\n",
        "    for i, (i_trn, i_val) in enumerate(cv.split(X, y)):\n",
        "        clf = copy(base_models[name])\n",
        "        clf.fit(X.iloc[i_trn], y[i_trn])\n",
        "\n",
        "        p[i_val] = clf.predict_proba(X.iloc[i_val])\n",
        "        p_tst += clf.predict_proba(X_tst) / n_fold\n",
        "\n",
        "    p_dict[name] = p\n",
        "    p_tst_dict[name] = p_tst\n",
        "    print(f'\\tCV Log Loss: {log_loss(y, p):.6f}')"
      ],
      "execution_count": 47,
      "outputs": [
        {
          "output_type": "stream",
          "text": [
            "Training rf:\n",
            "\tCV Log Loss: 0.769272\n",
            "Training lgb:\n",
            "\tCV Log Loss: 0.754216\n",
            "Training xgb:\n",
            "\tCV Log Loss: 0.798973\n",
            "Training et:\n",
            "\tCV Log Loss: 0.799640\n"
          ],
          "name": "stdout"
        }
      ]
    },
    {
      "cell_type": "markdown",
      "metadata": {
        "id": "pf25guACcAR3"
      },
      "source": [
        "### Stacking"
      ]
    },
    {
      "cell_type": "code",
      "metadata": {
        "colab": {
          "base_uri": "https://localhost:8080/"
        },
        "id": "6z-V_m1gdZ-_",
        "outputId": "8471a1ef-74d9-4a1a-9e1a-a86651c024b6"
      },
      "source": [
        "X = pd.DataFrame(np.hstack([x for _, x in p_dict.items()]))\n",
        "X_tst = pd.DataFrame(np.hstack([x for _, x in p_tst_dict.items()]))\n",
        "\n",
        "p = np.zeros((X.shape[0], n_class), dtype=float)\n",
        "p_tst = np.zeros((X_tst.shape[0], n_class), dtype=float)\n",
        "for i_cv, (i_trn, i_val) in enumerate(cv.split(X, y)):\n",
        "    if i_cv == 0:\n",
        "        clf = AutoLGB(objective='multiclass', metric='multi_logloss', params={'num_class': n_class}, \n",
        "                      feature_selection=False, n_est=10000)\n",
        "        clf.tune(X.iloc[i_trn], y[i_trn])\n",
        "        n_best = clf.n_best\n",
        "        features = clf.features\n",
        "        params = clf.params\n",
        "        print(f'best iteration: {n_best}')\n",
        "        print(f'selected features ({len(features)}): {features}')        \n",
        "        pprint(params)\n",
        "        clf.fit(X.iloc[i_trn], y[i_trn])\n",
        "    else:\n",
        "        train_data = lgb.Dataset(X[features].iloc[i_trn], label=y[i_trn])\n",
        "        clf = lgb.train(params, train_data, n_best, verbose_eval=100)\n",
        "    \n",
        "    p[i_val] = clf.predict(X[features].iloc[i_val])\n",
        "    p_tst += clf.predict(X_tst[features]) / n_fold"
      ],
      "execution_count": 48,
      "outputs": [
        {
          "output_type": "stream",
          "text": [
            "100%|██████████| 100/100 [01:40<00:00,  1.01s/it, best loss: 0.7344364920054137]\n",
            "best iteration: 197\n",
            "selected features (12): [0, 1, 2, 3, 4, 5, 6, 7, 8, 9, 10, 11]\n",
            "{'bagging_fraction': 0.6000000000000001,\n",
            " 'bagging_freq': 1,\n",
            " 'boosting': 'gbdt',\n",
            " 'feature_fraction': 0.6000000000000001,\n",
            " 'feature_pre_filter': False,\n",
            " 'lambda_l1': 0,\n",
            " 'lambda_l2': 0,\n",
            " 'learning_rate': 0.029613606726953456,\n",
            " 'max_depth': 4,\n",
            " 'metric': 'multi_logloss',\n",
            " 'min_child_samples': 10,\n",
            " 'num_class': 3,\n",
            " 'num_leaves': 127,\n",
            " 'num_threads': -1,\n",
            " 'objective': 'multiclass',\n",
            " 'seed': 42,\n",
            " 'verbosity': -1}\n"
          ],
          "name": "stdout"
        }
      ]
    },
    {
      "cell_type": "code",
      "metadata": {
        "colab": {
          "base_uri": "https://localhost:8080/"
        },
        "id": "uIXjiL3FdaBS",
        "outputId": "3a69fa64-73ea-42bc-be1c-eba3be3bf634"
      },
      "source": [
        "print(f'CV Log Loss: {log_loss(y, p):.6f}')\n",
        "np.savetxt(predict_val_file, p, fmt='%.6f')\n",
        "np.savetxt(predict_tst_file, p_tst, fmt='%.6f')"
      ],
      "execution_count": 49,
      "outputs": [
        {
          "output_type": "stream",
          "text": [
            "CV Log Loss: 0.744087\n"
          ],
          "name": "stdout"
        }
      ]
    },
    {
      "cell_type": "markdown",
      "metadata": {
        "id": "8OPWAC5Bdhqd"
      },
      "source": [
        "### Submit"
      ]
    },
    {
      "cell_type": "code",
      "metadata": {
        "colab": {
          "base_uri": "https://localhost:8080/",
          "height": 230
        },
        "id": "QSMNdaftdaDn",
        "outputId": "94d73476-6b84-4b14-c7e7-e8169ca951de"
      },
      "source": [
        "sub[sub.columns] = p_tst\n",
        "sub.head()"
      ],
      "execution_count": 52,
      "outputs": [
        {
          "output_type": "execute_result",
          "data": {
            "text/html": [
              "<div>\n",
              "<style scoped>\n",
              "    .dataframe tbody tr th:only-of-type {\n",
              "        vertical-align: middle;\n",
              "    }\n",
              "\n",
              "    .dataframe tbody tr th {\n",
              "        vertical-align: top;\n",
              "    }\n",
              "\n",
              "    .dataframe thead th {\n",
              "        text-align: right;\n",
              "    }\n",
              "</style>\n",
              "<table border=\"1\" class=\"dataframe\">\n",
              "  <thead>\n",
              "    <tr style=\"text-align: right;\">\n",
              "      <th></th>\n",
              "      <th>0</th>\n",
              "      <th>1</th>\n",
              "      <th>2</th>\n",
              "    </tr>\n",
              "    <tr>\n",
              "      <th>index</th>\n",
              "      <th></th>\n",
              "      <th></th>\n",
              "      <th></th>\n",
              "    </tr>\n",
              "  </thead>\n",
              "  <tbody>\n",
              "    <tr>\n",
              "      <th>26457</th>\n",
              "      <td>0.077375</td>\n",
              "      <td>0.133167</td>\n",
              "      <td>0.789458</td>\n",
              "    </tr>\n",
              "    <tr>\n",
              "      <th>26458</th>\n",
              "      <td>0.167190</td>\n",
              "      <td>0.158597</td>\n",
              "      <td>0.674213</td>\n",
              "    </tr>\n",
              "    <tr>\n",
              "      <th>26459</th>\n",
              "      <td>0.047630</td>\n",
              "      <td>0.079746</td>\n",
              "      <td>0.872625</td>\n",
              "    </tr>\n",
              "    <tr>\n",
              "      <th>26460</th>\n",
              "      <td>0.101825</td>\n",
              "      <td>0.110927</td>\n",
              "      <td>0.787248</td>\n",
              "    </tr>\n",
              "    <tr>\n",
              "      <th>26461</th>\n",
              "      <td>0.084352</td>\n",
              "      <td>0.238930</td>\n",
              "      <td>0.676718</td>\n",
              "    </tr>\n",
              "  </tbody>\n",
              "</table>\n",
              "</div>"
            ],
            "text/plain": [
              "              0         1         2\n",
              "index                              \n",
              "26457  0.077375  0.133167  0.789458\n",
              "26458  0.167190  0.158597  0.674213\n",
              "26459  0.047630  0.079746  0.872625\n",
              "26460  0.101825  0.110927  0.787248\n",
              "26461  0.084352  0.238930  0.676718"
            ]
          },
          "metadata": {
            "tags": []
          },
          "execution_count": 52
        }
      ]
    },
    {
      "cell_type": "code",
      "metadata": {
        "id": "6pij0gmQdaF3"
      },
      "source": [
        "sub.to_csv(submission_file)"
      ],
      "execution_count": 53,
      "outputs": []
    },
    {
      "cell_type": "code",
      "metadata": {
        "colab": {
          "base_uri": "https://localhost:8080/",
          "height": 35
        },
        "id": "5mhKfFX2dlY9",
        "outputId": "4957b72a-b706-407b-d1ac-9a81148be844"
      },
      "source": [
        "submission_file"
      ],
      "execution_count": 54,
      "outputs": [
        {
          "output_type": "execute_result",
          "data": {
            "application/vnd.google.colaboratory.intrinsic+json": {
              "type": "string"
            },
            "text/plain": [
              "'esb.sub.csv'"
            ]
          },
          "metadata": {
            "tags": []
          },
          "execution_count": 54
        }
      ]
    },
    {
      "cell_type": "markdown",
      "metadata": {
        "id": "vIZeIkRdcBgq"
      },
      "source": [
        ""
      ]
    },
    {
      "cell_type": "markdown",
      "metadata": {
        "id": "PNymaCYJcCNo"
      },
      "source": [
        ""
      ]
    }
  ]
}